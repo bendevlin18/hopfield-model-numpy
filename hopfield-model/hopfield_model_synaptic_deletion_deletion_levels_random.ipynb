{
 "cells": [
  {
   "cell_type": "markdown",
   "metadata": {},
   "source": [
    "## Based on work from [Chechik et al., 1998.](https://www-mitpressjournals-org.proxy.lib.duke.edu/doi/pdf/10.1162/089976698300017124)"
   ]
  },
  {
   "cell_type": "code",
   "execution_count": 2,
   "metadata": {},
   "outputs": [],
   "source": [
    "import numpy as np\n",
    "import matplotlib.pyplot as plt\n",
    "import pandas as pd\n",
    "import copy"
   ]
  },
  {
   "cell_type": "code",
   "execution_count": 3,
   "metadata": {},
   "outputs": [],
   "source": [
    "M = 50 #number of memories\n",
    "N = 100 #number of neurons\n",
    "timesteps = 2 #number of timesteps for the simulation\n",
    "\n",
    "\n",
    "#creating patterns\n",
    "patterns = np.empty(shape = (M, N))\n",
    "for m in range(M):\n",
    "    patterns[m] = np.random.choice([-1, 1], N)"
   ]
  },
  {
   "cell_type": "code",
   "execution_count": 36,
   "metadata": {},
   "outputs": [],
   "source": [
    "#creating the initial connectivity matrix based on a sum of the patterns - THIS SEEMS TO BE THE BOTTLENECK\n",
    "connectivity = np.zeros(shape = (N, N))\n",
    "for m in range(M):\n",
    "    connectivity += np.outer(patterns[m], patterns[m].T)\n",
    "for i in range(N):\n",
    "    connectivity[i][i] = 0\n",
    "\n",
    "Wij = connectivity / np.sqrt(M)\n",
    "z = Wij.copy()\n",
    "t = .3"
   ]
  },
  {
   "cell_type": "code",
   "execution_count": 37,
   "metadata": {},
   "outputs": [
    {
     "data": {
      "text/plain": [
       "1282"
      ]
     },
     "execution_count": 37,
     "metadata": {},
     "output_type": "execute_result"
    }
   ],
   "source": [
    "counts = np.unique(Wij, return_counts = True)\n",
    "zeros = int(counts[1][counts[0] == 0])\n",
    "\n",
    "zeros"
   ]
  },
  {
   "cell_type": "code",
   "execution_count": 38,
   "metadata": {},
   "outputs": [],
   "source": [
    "## random deletion\n",
    "\n",
    "indices = np.random.choice(np.arange(z.size), replace=False, size=int(z.size * t))\n",
    "z_flat = z.flatten()\n",
    "z_flat[indices] = 0\n",
    "z = z_flat.reshape((100, 100))\n",
    "\n",
    "#set the connectivity matrix to the modified/deleted synaptic values\n",
    "Wij = z.copy()"
   ]
  },
  {
   "cell_type": "code",
   "execution_count": 39,
   "metadata": {},
   "outputs": [
    {
     "data": {
      "text/plain": [
       "3868"
      ]
     },
     "execution_count": 39,
     "metadata": {},
     "output_type": "execute_result"
    }
   ],
   "source": [
    "counts = np.unique(Wij, return_counts = True)\n",
    "zeros = int(counts[1][counts[0] == 0])\n",
    "\n",
    "zeros"
   ]
  },
  {
   "cell_type": "code",
   "execution_count": 43,
   "metadata": {},
   "outputs": [],
   "source": [
    "def hopfield_model_synaptic_deletion_random(mem, neu, tim, threshold):\n",
    "\n",
    "    import numpy as np\n",
    "    import copy\n",
    "    \n",
    "    M = mem #number of memories\n",
    "    N = neu #number of neurons\n",
    "    timesteps = tim #number of timesteps for the simulation\n",
    "\n",
    "\n",
    "    #creating patterns\n",
    "    patterns = np.empty(shape = (M, N))\n",
    "    for m in range(M):\n",
    "        patterns[m] = np.random.choice([-1, 1], N)\n",
    "\n",
    "\n",
    "    #creating the initial connectivity matrix based on a sum of the patterns - THIS SEEMS TO BE THE BOTTLENECK\n",
    "    connectivity = np.zeros(shape = (N, N))\n",
    "    for m in range(M):\n",
    "        connectivity += np.outer(patterns[m], patterns[m].T)\n",
    "    for i in range(N):\n",
    "        connectivity[i][i] = 0\n",
    "    \n",
    "    Wij = connectivity / np.sqrt(M)\n",
    "    z = Wij.copy()\n",
    "    t = threshold\n",
    "    \n",
    "    ## random deletion\n",
    "\n",
    "    indices = np.random.choice(np.arange(z.size), replace=False, size=int(z.size * t))\n",
    "    z_flat = z.flatten()\n",
    "    z_flat[indices] = 0\n",
    "    z = z_flat.reshape((Wij.shape))\n",
    "\n",
    "    \n",
    "    #set the connectivity matrix to the modified/deleted synaptic values\n",
    "    Wij = z.copy()\n",
    "\n",
    "    #want an initial overlap of 0.8\n",
    "    X = np.zeros(shape = (timesteps, N))\n",
    "    X[0] = patterns[0].copy()\n",
    "    n_change = int(X[0].shape[0] * 0.1)\n",
    "    X[0][1:n_change] = -X[0][1:n_change]\n",
    "    \n",
    "    \n",
    "    #update the model for every timestep based on its sign\n",
    "    for t in range(timesteps - 1):\n",
    "        X[t+1,:] = np.sign(Wij.dot(X[t,:]))\n",
    "\n",
    "    #create an array to hold the overlap percentages   \n",
    "    m_overlap = np.empty(shape = (timesteps, M))\n",
    "    mu = []\n",
    "\n",
    "    #calculate overlap percentages\n",
    "    for t in range(timesteps):\n",
    "        for u in range(M):\n",
    "            mu = []\n",
    "            for j in range(N):\n",
    "                mu = np.append(mu, patterns[u][j] * X[t][j])\n",
    "            m_overlap[t][u] = ((1/N) * mu.sum())\n",
    "            \n",
    "    #get the number of zeros that resulted in the Wij connectivity matrix following this pruning step\n",
    "    counts = np.unique(Wij, return_counts = True)       \n",
    "    zeros = counts[1][counts[0] == 0]        \n",
    "            \n",
    "    return(m_overlap.take(0, axis = 1)[1], zeros)"
   ]
  },
  {
   "cell_type": "code",
   "execution_count": 61,
   "metadata": {},
   "outputs": [
    {
     "name": "stdout",
     "output_type": "stream",
     "text": [
      "Wall time: 13min 18s\n"
     ]
    }
   ],
   "source": [
    "%%time\n",
    "\n",
    "del_levels = np.arange(0, 1.05, .05)\n",
    "\n",
    "x = np.ones(shape = (len(del_levels), 2))\n",
    "memory = np.zeros(shape = len(del_levels))\n",
    "i = -1\n",
    "\n",
    "\n",
    "for lvl in del_levels:\n",
    "    i = i + 1\n",
    "    while x[i][0] > .95:\n",
    "        memory[i] = memory[i] + 1\n",
    "        x[i] = hopfield_model_synaptic_deletion_random(mem = int(memory[i]), neu = 800, tim = 2, threshold = 0 + lvl)"
   ]
  },
  {
   "cell_type": "code",
   "execution_count": 62,
   "metadata": {},
   "outputs": [],
   "source": [
    "random1 = memory.copy()\n",
    "random_x1 = x.copy()"
   ]
  },
  {
   "cell_type": "code",
   "execution_count": 63,
   "metadata": {},
   "outputs": [
    {
     "data": {
      "text/plain": [
       "(array([125., 117.,  98.,  95.,  99.,  82.,  92.,  82.,  80.,  64.,  57.,\n",
       "         53.,  47.,  43.,  37.,  30.,  25.,  19.,  15.,   7.,   1.]),\n",
       " array([[9.42500e-01, 8.00000e+02],\n",
       "        [9.45000e-01, 3.27630e+04],\n",
       "        [9.40000e-01, 1.10866e+05],\n",
       "        [9.32500e-01, 9.66720e+04],\n",
       "        [9.35000e-01, 1.28641e+05],\n",
       "        [9.47500e-01, 2.02401e+05],\n",
       "        [9.47500e-01, 2.29781e+05],\n",
       "        [9.22500e-01, 2.60773e+05],\n",
       "        [9.40000e-01, 2.90514e+05],\n",
       "        [9.47500e-01, 3.23479e+05],\n",
       "        [9.47500e-01, 3.20379e+05],\n",
       "        [9.42500e-01, 3.52387e+05],\n",
       "        [9.42500e-01, 3.84329e+05],\n",
       "        [9.42500e-01, 4.16249e+05],\n",
       "        [9.35000e-01, 4.48222e+05],\n",
       "        [9.42500e-01, 5.03031e+05],\n",
       "        [9.47500e-01, 5.12143e+05],\n",
       "        [9.47500e-01, 5.44115e+05],\n",
       "        [9.32500e-01, 5.76063e+05],\n",
       "        [9.47500e-01, 6.08049e+05],\n",
       "        [0.00000e+00, 6.40000e+05]]))"
      ]
     },
     "execution_count": 63,
     "metadata": {},
     "output_type": "execute_result"
    }
   ],
   "source": [
    "random1, random_x1"
   ]
  },
  {
   "cell_type": "code",
   "execution_count": 64,
   "metadata": {},
   "outputs": [
    {
     "name": "stdout",
     "output_type": "stream",
     "text": [
      "Wall time: 12min 42s\n"
     ]
    }
   ],
   "source": [
    "%%time\n",
    "\n",
    "del_levels = np.arange(0, 1.05, .05)\n",
    "\n",
    "x = np.ones(shape = (len(del_levels), 2))\n",
    "memory = np.zeros(shape = len(del_levels))\n",
    "i = -1\n",
    "\n",
    "\n",
    "for lvl in del_levels:\n",
    "    i = i + 1\n",
    "    while x[i][0] > .95:\n",
    "        memory[i] = memory[i] + 1\n",
    "        x[i] = hopfield_model_synaptic_deletion_random(mem = int(memory[i]), neu = 800, tim = 2, threshold = 0 + lvl)"
   ]
  },
  {
   "cell_type": "code",
   "execution_count": 65,
   "metadata": {},
   "outputs": [],
   "source": [
    "random2 = memory.copy()\n",
    "random_x2 = x.copy()"
   ]
  },
  {
   "cell_type": "code",
   "execution_count": 66,
   "metadata": {},
   "outputs": [
    {
     "name": "stdout",
     "output_type": "stream",
     "text": [
      "Wall time: 13min 15s\n"
     ]
    }
   ],
   "source": [
    "%%time\n",
    "\n",
    "del_levels = np.arange(0, 1.05, .05)\n",
    "\n",
    "x = np.ones(shape = (len(del_levels), 2))\n",
    "memory = np.zeros(shape = len(del_levels))\n",
    "i = -1\n",
    "\n",
    "\n",
    "for lvl in del_levels:\n",
    "    i = i + 1\n",
    "    while x[i][0] > .95:\n",
    "        memory[i] = memory[i] + 1\n",
    "        x[i] = hopfield_model_synaptic_deletion_random(mem = int(memory[i]), neu = 800, tim = 2, threshold = 0 + lvl)"
   ]
  },
  {
   "cell_type": "code",
   "execution_count": 67,
   "metadata": {},
   "outputs": [],
   "source": [
    "random3 = memory.copy()\n",
    "random_x3 = x.copy()"
   ]
  },
  {
   "cell_type": "code",
   "execution_count": 69,
   "metadata": {},
   "outputs": [],
   "source": [
    "random_mean = []\n",
    "random_x_mean = []\n",
    "\n",
    "for i in range(len(random1)):\n",
    "    random_mean = np.append(random_mean, np.mean([random1[i], random2[i], random3[i]]))\n",
    "    \n",
    "for i in range(len(random_x1)):\n",
    "    random_x_mean = np.append(random_x_mean, np.mean([random_x1[i][1], random_x2[i][1], random_x3[i][1]]))"
   ]
  },
  {
   "cell_type": "code",
   "execution_count": 70,
   "metadata": {},
   "outputs": [],
   "source": [
    "df = pd.DataFrame({'n_mem':random_mean, 'n_syn_deleted':random_x_mean})"
   ]
  },
  {
   "cell_type": "code",
   "execution_count": 71,
   "metadata": {},
   "outputs": [],
   "source": [
    "names = np.repeat('random', len(random_mean))\n",
    "df['del_type'] = names"
   ]
  },
  {
   "cell_type": "code",
   "execution_count": 72,
   "metadata": {},
   "outputs": [],
   "source": [
    "df['del_level'] = 100*(df['n_syn_deleted']/df['n_syn_deleted'].max())"
   ]
  },
  {
   "cell_type": "code",
   "execution_count": 73,
   "metadata": {},
   "outputs": [
    {
     "data": {
      "text/html": [
       "<div>\n",
       "<style scoped>\n",
       "    .dataframe tbody tr th:only-of-type {\n",
       "        vertical-align: middle;\n",
       "    }\n",
       "\n",
       "    .dataframe tbody tr th {\n",
       "        vertical-align: top;\n",
       "    }\n",
       "\n",
       "    .dataframe thead th {\n",
       "        text-align: right;\n",
       "    }\n",
       "</style>\n",
       "<table border=\"1\" class=\"dataframe\">\n",
       "  <thead>\n",
       "    <tr style=\"text-align: right;\">\n",
       "      <th></th>\n",
       "      <th>n_mem</th>\n",
       "      <th>n_syn_deleted</th>\n",
       "      <th>del_type</th>\n",
       "      <th>del_level</th>\n",
       "    </tr>\n",
       "  </thead>\n",
       "  <tbody>\n",
       "    <tr>\n",
       "      <th>0</th>\n",
       "      <td>115.000000</td>\n",
       "      <td>800.000000</td>\n",
       "      <td>random</td>\n",
       "      <td>0.125000</td>\n",
       "    </tr>\n",
       "    <tr>\n",
       "      <th>1</th>\n",
       "      <td>104.000000</td>\n",
       "      <td>49657.000000</td>\n",
       "      <td>random</td>\n",
       "      <td>7.758906</td>\n",
       "    </tr>\n",
       "    <tr>\n",
       "      <th>2</th>\n",
       "      <td>106.000000</td>\n",
       "      <td>80090.333333</td>\n",
       "      <td>random</td>\n",
       "      <td>12.514115</td>\n",
       "    </tr>\n",
       "    <tr>\n",
       "      <th>3</th>\n",
       "      <td>101.666667</td>\n",
       "      <td>124924.000000</td>\n",
       "      <td>random</td>\n",
       "      <td>19.519375</td>\n",
       "    </tr>\n",
       "    <tr>\n",
       "      <th>4</th>\n",
       "      <td>96.333333</td>\n",
       "      <td>156484.000000</td>\n",
       "      <td>random</td>\n",
       "      <td>24.450625</td>\n",
       "    </tr>\n",
       "    <tr>\n",
       "      <th>5</th>\n",
       "      <td>88.333333</td>\n",
       "      <td>187917.333333</td>\n",
       "      <td>random</td>\n",
       "      <td>29.362083</td>\n",
       "    </tr>\n",
       "    <tr>\n",
       "      <th>6</th>\n",
       "      <td>86.666667</td>\n",
       "      <td>231029.000000</td>\n",
       "      <td>random</td>\n",
       "      <td>36.098281</td>\n",
       "    </tr>\n",
       "    <tr>\n",
       "      <th>7</th>\n",
       "      <td>78.666667</td>\n",
       "      <td>236601.000000</td>\n",
       "      <td>random</td>\n",
       "      <td>36.968906</td>\n",
       "    </tr>\n",
       "    <tr>\n",
       "      <th>8</th>\n",
       "      <td>80.333333</td>\n",
       "      <td>279449.666667</td>\n",
       "      <td>random</td>\n",
       "      <td>43.664010</td>\n",
       "    </tr>\n",
       "    <tr>\n",
       "      <th>9</th>\n",
       "      <td>66.000000</td>\n",
       "      <td>300124.666667</td>\n",
       "      <td>random</td>\n",
       "      <td>46.894479</td>\n",
       "    </tr>\n",
       "    <tr>\n",
       "      <th>10</th>\n",
       "      <td>58.333333</td>\n",
       "      <td>342298.666667</td>\n",
       "      <td>random</td>\n",
       "      <td>53.484167</td>\n",
       "    </tr>\n",
       "    <tr>\n",
       "      <th>11</th>\n",
       "      <td>55.000000</td>\n",
       "      <td>372550.666667</td>\n",
       "      <td>random</td>\n",
       "      <td>58.211042</td>\n",
       "    </tr>\n",
       "    <tr>\n",
       "      <th>12</th>\n",
       "      <td>47.666667</td>\n",
       "      <td>384312.666667</td>\n",
       "      <td>random</td>\n",
       "      <td>60.048854</td>\n",
       "    </tr>\n",
       "    <tr>\n",
       "      <th>13</th>\n",
       "      <td>41.333333</td>\n",
       "      <td>425674.666667</td>\n",
       "      <td>random</td>\n",
       "      <td>66.511667</td>\n",
       "    </tr>\n",
       "    <tr>\n",
       "      <th>14</th>\n",
       "      <td>39.333333</td>\n",
       "      <td>456039.333333</td>\n",
       "      <td>random</td>\n",
       "      <td>71.256146</td>\n",
       "    </tr>\n",
       "    <tr>\n",
       "      <th>15</th>\n",
       "      <td>33.333333</td>\n",
       "      <td>487817.000000</td>\n",
       "      <td>random</td>\n",
       "      <td>76.221406</td>\n",
       "    </tr>\n",
       "    <tr>\n",
       "      <th>16</th>\n",
       "      <td>27.000000</td>\n",
       "      <td>512164.333333</td>\n",
       "      <td>random</td>\n",
       "      <td>80.025677</td>\n",
       "    </tr>\n",
       "    <tr>\n",
       "      <th>17</th>\n",
       "      <td>21.000000</td>\n",
       "      <td>544118.333333</td>\n",
       "      <td>random</td>\n",
       "      <td>85.018490</td>\n",
       "    </tr>\n",
       "    <tr>\n",
       "      <th>18</th>\n",
       "      <td>14.666667</td>\n",
       "      <td>580558.000000</td>\n",
       "      <td>random</td>\n",
       "      <td>90.712187</td>\n",
       "    </tr>\n",
       "    <tr>\n",
       "      <th>19</th>\n",
       "      <td>7.333333</td>\n",
       "      <td>610941.333333</td>\n",
       "      <td>random</td>\n",
       "      <td>95.459583</td>\n",
       "    </tr>\n",
       "    <tr>\n",
       "      <th>20</th>\n",
       "      <td>1.000000</td>\n",
       "      <td>640000.000000</td>\n",
       "      <td>random</td>\n",
       "      <td>100.000000</td>\n",
       "    </tr>\n",
       "  </tbody>\n",
       "</table>\n",
       "</div>"
      ],
      "text/plain": [
       "         n_mem  n_syn_deleted del_type   del_level\n",
       "0   115.000000     800.000000   random    0.125000\n",
       "1   104.000000   49657.000000   random    7.758906\n",
       "2   106.000000   80090.333333   random   12.514115\n",
       "3   101.666667  124924.000000   random   19.519375\n",
       "4    96.333333  156484.000000   random   24.450625\n",
       "5    88.333333  187917.333333   random   29.362083\n",
       "6    86.666667  231029.000000   random   36.098281\n",
       "7    78.666667  236601.000000   random   36.968906\n",
       "8    80.333333  279449.666667   random   43.664010\n",
       "9    66.000000  300124.666667   random   46.894479\n",
       "10   58.333333  342298.666667   random   53.484167\n",
       "11   55.000000  372550.666667   random   58.211042\n",
       "12   47.666667  384312.666667   random   60.048854\n",
       "13   41.333333  425674.666667   random   66.511667\n",
       "14   39.333333  456039.333333   random   71.256146\n",
       "15   33.333333  487817.000000   random   76.221406\n",
       "16   27.000000  512164.333333   random   80.025677\n",
       "17   21.000000  544118.333333   random   85.018490\n",
       "18   14.666667  580558.000000   random   90.712187\n",
       "19    7.333333  610941.333333   random   95.459583\n",
       "20    1.000000  640000.000000   random  100.000000"
      ]
     },
     "execution_count": 73,
     "metadata": {},
     "output_type": "execute_result"
    }
   ],
   "source": [
    "df"
   ]
  },
  {
   "cell_type": "code",
   "execution_count": 74,
   "metadata": {},
   "outputs": [],
   "source": [
    "df.to_csv('C:\\\\Users\\\\Minecraft in 4K\\\\Dropbox\\\\spr_2020_classes\\\\quant_neurobio\\\\final_results_mean_tidy_random.csv')"
   ]
  },
  {
   "cell_type": "code",
   "execution_count": null,
   "metadata": {},
   "outputs": [],
   "source": []
  }
 ],
 "metadata": {
  "kernelspec": {
   "display_name": "Python 3",
   "language": "python",
   "name": "python3"
  },
  "language_info": {
   "codemirror_mode": {
    "name": "ipython",
    "version": 3
   },
   "file_extension": ".py",
   "mimetype": "text/x-python",
   "name": "python",
   "nbconvert_exporter": "python",
   "pygments_lexer": "ipython3",
   "version": "3.7.4"
  }
 },
 "nbformat": 4,
 "nbformat_minor": 4
}

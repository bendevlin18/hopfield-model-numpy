{
 "cells": [
  {
   "cell_type": "markdown",
   "metadata": {},
   "source": [
    "# __*Quant Neurobio Final Project*__\n",
    "- Modelling synaptic pruning during development\n",
    "\n",
    "Based on work from [Chechik et al., 1998.](https://www-mitpressjournals-org.proxy.lib.duke.edu/doi/pdf/10.1162/089976698300017124)\n",
    "\n",
    "and [Chechik et al., 1999](https://chechiklab.biu.ac.il/~gal/Papers/chechik_nr_del.pdf)"
   ]
  },
  {
   "cell_type": "code",
   "execution_count": 2,
   "metadata": {},
   "outputs": [],
   "source": [
    "import numpy as np\n",
    "import pandas as pd\n",
    "import matplotlib.pyplot as plt"
   ]
  },
  {
   "cell_type": "markdown",
   "metadata": {},
   "source": [
    "## Synaptic Deletion strategies\n",
    "- All depend on some arbitrary threshold (t)\n",
    "- Where z is the total strength of the synaptic connection"
   ]
  },
  {
   "cell_type": "markdown",
   "metadata": {},
   "source": [
    "#### _Minimal Value Deletion_"
   ]
  },
  {
   "cell_type": "code",
   "execution_count": 80,
   "metadata": {},
   "outputs": [],
   "source": [
    "def min_val_deletion(z, thresh):\n",
    "    for i in range(len(z)):\n",
    "        if np.abs(z[i]) > t:\n",
    "            z[i] = z[i]\n",
    "        elif z[i] == t:\n",
    "            z[i] = 0\n",
    "        else:\n",
    "            z[i] = 0\n",
    "        \n",
    "    return z"
   ]
  },
  {
   "cell_type": "code",
   "execution_count": 81,
   "metadata": {},
   "outputs": [
    {
     "data": {
      "image/png": "[encoded data removed]",
      "text/plain": [
       "<Figure size 432x288 with 1 Axes>"
      ]
     },
     "metadata": {
      "needs_background": "light"
     },
     "output_type": "display_data"
    }
   ],
   "source": [
    "fig = plt.figure()\n",
    "\n",
    "\n",
    "z = np.arange(-40, 40, 1)\n",
    "t = 10\n",
    "\n",
    "min_val_deletion(z, t)\n",
    "\n",
    "\n",
    "x = np.arange(-40, 40, 1)\n",
    "y = z\n",
    "\n",
    "ax = plt.gca()\n",
    "plt.title('Minimal Value Deletion')\n",
    "ax.plot(x, y, linewidth = 2, color = 'black')\n",
    "ax.spines['left'].set_position('zero')\n",
    "ax.spines['right'].set_color('none')\n",
    "ax.spines['bottom'].set_position('zero')\n",
    "ax.spines['top'].set_color('none')\n",
    "plt.xticks(ticks = [-t, t], labels = ['-t', 't'], fontsize = 'x-large')\n",
    "plt.yticks(ticks = []);"
   ]
  },
  {
   "cell_type": "markdown",
   "metadata": {},
   "source": [
    "#### _Clipping Modification_"
   ]
  },
  {
   "cell_type": "code",
   "execution_count": 82,
   "metadata": {},
   "outputs": [],
   "source": [
    "def clipping_mod(z, thresh):\n",
    "    for i in range(len(z)):\n",
    "        if z[i] > t:\n",
    "            z[i] = 1\n",
    "        elif z[i] < -t:\n",
    "            z[i] = -1\n",
    "        else:\n",
    "            z[i] = 0\n",
    "    return z"
   ]
  },
  {
   "cell_type": "code",
   "execution_count": 83,
   "metadata": {},
   "outputs": [
    {
     "data": {
      "image/png": "[encoded data removed]",
      "text/plain": [
       "<Figure size 432x288 with 1 Axes>"
      ]
     },
     "metadata": {
      "needs_background": "light"
     },
     "output_type": "display_data"
    }
   ],
   "source": [
    "fig = plt.figure()\n",
    "\n",
    "\n",
    "z = np.arange(-40, 40, 1)\n",
    "t = 10\n",
    "\n",
    "clipping_mod(z, t)\n",
    "\n",
    "x = np.arange(-40, 40, 1)\n",
    "y = z\n",
    "\n",
    "ax = plt.gca()\n",
    "plt.title('Clipping Modification')\n",
    "ax.plot(x, y, linewidth = 2, color = 'black')\n",
    "ax.spines['left'].set_position('zero')\n",
    "ax.spines['right'].set_color('none')\n",
    "ax.spines['bottom'].set_position('zero')\n",
    "ax.spines['top'].set_color('none')\n",
    "plt.xticks(ticks = [-t, t], labels = ['-t', 't'], fontsize = 'x-large')\n",
    "plt.yticks(ticks = []);"
   ]
  },
  {
   "cell_type": "markdown",
   "metadata": {},
   "source": [
    "#### _Compressed Deletion_"
   ]
  },
  {
   "cell_type": "code",
   "execution_count": 84,
   "metadata": {},
   "outputs": [],
   "source": [
    "def compressed_deletion(z, thresh):\n",
    "    for i in range(len(z)):\n",
    "        if np.abs(z[i]) <= t:\n",
    "            z[i] = 0\n",
    "        elif z[i] > t:\n",
    "            z[i] = z[i] - t\n",
    "        elif z[i] < -t:\n",
    "            z[i] = z[i] + t\n",
    "    return z"
   ]
  },
  {
   "cell_type": "code",
   "execution_count": 85,
   "metadata": {},
   "outputs": [
    {
     "data": {
      "image/png": "[encoded data removed]",
      "text/plain": [
       "<Figure size 432x288 with 1 Axes>"
      ]
     },
     "metadata": {
      "needs_background": "light"
     },
     "output_type": "display_data"
    }
   ],
   "source": [
    "fig = plt.figure()\n",
    "\n",
    "\n",
    "z = np.arange(-40, 40, 1)\n",
    "t = 10\n",
    "\n",
    "compressed_deletion(z,t)\n",
    "\n",
    "x = np.arange(-40, 40, 1)\n",
    "y = z\n",
    "\n",
    "ax = plt.gca()\n",
    "plt.title('Compressed Deletion')\n",
    "ax.plot(x, y, linewidth = 2, color = 'black')\n",
    "ax.spines['left'].set_position('zero')\n",
    "ax.spines['right'].set_color('none')\n",
    "ax.spines['bottom'].set_position('zero')\n",
    "ax.spines['top'].set_color('none')\n",
    "plt.xticks(ticks = [-t, t], labels = ['-t', 't'], fontsize = 'x-large')\n",
    "plt.yticks(ticks = []);"
   ]
  },
  {
   "cell_type": "markdown",
   "metadata": {},
   "source": [
    "## _Creating a hebbian network to test the different deletion types_"
   ]
  },
  {
   "cell_type": "markdown",
   "metadata": {},
   "source": [
    "### [Canonical Hopfield Model](https://www.pnas.org/content/79/8/2554)"
   ]
  },
  {
   "cell_type": "code",
   "execution_count": 272,
   "metadata": {},
   "outputs": [],
   "source": [
    "def hopfield_model_synaptic_deletion(mem, neu, tim = 2, deletion_type = 'min_val', threshold = .5):\n",
    "\n",
    "    M = mem #number of memories\n",
    "    N = neu #number of neurons\n",
    "    timesteps = tim #number of timesteps for the simulation\n",
    "\n",
    "\n",
    "    #creating patterns\n",
    "    patterns = np.empty(shape = (M, N))\n",
    "    for m in range(M):\n",
    "        patterns[m] = np.random.choice([-1, 1], N)\n",
    "\n",
    "\n",
    "    #creating the initial connectivity matrix based on a sum of the patterns\n",
    "    connectivity = np.zeros(shape = (N, N))\n",
    "    for m in range(M):\n",
    "        for i in range(N):\n",
    "            for j in range(N):\n",
    "                connectivity[i][j] = connectivity[i][j] + (patterns[m][i] * patterns[m][j])\n",
    "                connectivity[i][i] = 0\n",
    "    \n",
    "    Wij = connectivity / np.sqrt(M)\n",
    "    z = Wij.copy()\n",
    "    t = threshold\n",
    "    \n",
    "    ## min val deletion\n",
    "    if deletion_type == 'min_val':\n",
    "        for i in range(len(z[i])):\n",
    "            for j in range(len(z[j])):\n",
    "                if np.abs(z[i][j]) > t:\n",
    "                    z[i][j] = z[i][j]\n",
    "                elif z[i][j] == t:\n",
    "                    z[i][j] = 0\n",
    "                else:\n",
    "                    z[i][j] = 0\n",
    "    ##compressed deletion\n",
    "    if deletion_type == 'compressed':\n",
    "        for i in range(len(z[i])):\n",
    "            for j in range(len(z[j])):\n",
    "                if np.abs(z[i]) <= t:\n",
    "                    z[i][j] = 0\n",
    "                elif z[i][j] > t:\n",
    "                    z[i][j] = z[i][j] - t\n",
    "                elif z[i][j] < -t:\n",
    "                    z[i][j] = z[i][j] + t\n",
    "    ##clipping modification/deletion\n",
    "    if deletion_type == 'clipping':\n",
    "        for i in range(len(z[i])):\n",
    "            for j in range(len(z[j])):\n",
    "                if z[i][j] > t:\n",
    "                    z[i][j] = 1\n",
    "                elif z[i][j] < -t:\n",
    "                    z[i][j] = -1\n",
    "                else:\n",
    "                    z[i][j] = 0\n",
    "    \n",
    "    #set the connectivity matrix to the modified/deleted synaptic values\n",
    "    Wij = z.copy()\n",
    "\n",
    "    #want an initial overlap of 0.8\n",
    "    X = np.zeros(shape = (timesteps, N))\n",
    "    X[0] = patterns[0].copy()\n",
    "    n_change = int(X[0].shape[0] * 0.1)\n",
    "    X[0][1:n_change] = -X[0][1:n_change]\n",
    "\n",
    "    for t in range(timesteps - 1):\n",
    "        X[t+1,:] = np.sign(Wij.dot(X[t,:]))\n",
    "\n",
    "    m_overlap = np.empty(shape = (timesteps, M))\n",
    "    mu = []\n",
    "\n",
    "    for t in range(timesteps):\n",
    "        for u in range(M):\n",
    "            mu = []\n",
    "            for j in range(N):\n",
    "                mu = np.append(mu, patterns[u][j] * X[t][j])\n",
    "            m_overlap[t][u] = ((1/N) * mu.sum())\n",
    "            \n",
    "    return(m_overlap.take(0, axis = 1)[1])"
   ]
  },
  {
   "cell_type": "code",
   "execution_count": 324,
   "metadata": {},
   "outputs": [
    {
     "name": "stdout",
     "output_type": "stream",
     "text": [
      "Wall time: 8min 44s\n"
     ]
    }
   ],
   "source": [
    "%%time\n",
    "\n",
    "x = np.ones(shape = (del_levels))\n",
    "memory = np.ones(shape = (del_levels)) * 3\n",
    "del_levels = 25\n",
    "\n",
    "for i in range(del_levels):\n",
    "    while x[i] > .95:\n",
    "        memory[i] = memory[i] + 1\n",
    "        x[i] = hopfield_model_synaptic_deletion(mem = int(memory[i]), neu = 200-i, tim = 2, deletion_type = 'min_val', threshold = .5)"
   ]
  },
  {
   "cell_type": "code",
   "execution_count": 326,
   "metadata": {},
   "outputs": [
    {
     "data": {
      "image/png": "[encoded data removed]",
      "text/plain": [
       "<Figure size 432x288 with 1 Axes>"
      ]
     },
     "metadata": {
      "needs_background": "light"
     },
     "output_type": "display_data"
    }
   ],
   "source": [
    "plt.plot(memory);"
   ]
  },
  {
   "cell_type": "code",
   "execution_count": null,
   "metadata": {},
   "outputs": [],
   "source": [
    "binned_counts = []\n",
    "c = 0\n",
    "for i in range(91):\n",
    "    d = c + 4\n",
    "    x = np.mean(arr[c:d])\n",
    "    binned_counts = np.append(binned_counts, x)\n",
    "    c = d"
   ]
  }
 ],
 "metadata": {
  "kernelspec": {
   "display_name": "Python 3",
   "language": "python",
   "name": "python3"
  },
  "language_info": {
   "codemirror_mode": {
    "name": "ipython",
    "version": 3
   },
   "file_extension": ".py",
   "mimetype": "text/x-python",
   "name": "python",
   "nbconvert_exporter": "python",
   "pygments_lexer": "ipython3",
   "version": "3.7.4"
  }
 },
 "nbformat": 4,
 "nbformat_minor": 4
}

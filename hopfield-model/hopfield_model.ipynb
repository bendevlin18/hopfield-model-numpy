{
 "cells": [
  {
   "cell_type": "markdown",
   "metadata": {},
   "source": [
    "## Implementation of Canonical Hopfield Model"
   ]
  },
  {
   "cell_type": "markdown",
   "metadata": {},
   "source": [
    "### [Hopfield Model Publication](https://www.pnas.org/content/79/8/2554)\n",
    "\n",
    "#### Based on work from [Chechik et al., 1998.](https://www-mitpressjournals-org.proxy.lib.duke.edu/doi/pdf/10.1162/089976698300017124)"
   ]
  },
  {
   "cell_type": "code",
   "execution_count": 3,
   "metadata": {},
   "outputs": [],
   "source": [
    "import numpy as np\n",
    "import matplotlib.pyplot as plt"
   ]
  },
  {
   "cell_type": "code",
   "execution_count": 4,
   "metadata": {},
   "outputs": [],
   "source": [
    "M = 100 #number of memories\n",
    "N = 800 #number of neurons\n",
    "timesteps = 3 #number of timesteps for the simulation"
   ]
  },
  {
   "cell_type": "code",
   "execution_count": 146,
   "metadata": {},
   "outputs": [],
   "source": [
    "#creating patterns\n",
    "\n",
    "patterns = np.empty(shape = (M, N))\n",
    "\n",
    "for m in range(M):\n",
    "    patterns[m] = np.random.choice([-1, 1], N)"
   ]
  },
  {
   "cell_type": "code",
   "execution_count": 147,
   "metadata": {},
   "outputs": [
    {
     "name": "stdout",
     "output_type": "stream",
     "text": [
      "Wall time: 1min 45s\n"
     ]
    }
   ],
   "source": [
    "%%time\n",
    "\n",
    "#creating the initial connectivity matrix based on a sum of the patterns\n",
    "\n",
    "connectivity = np.zeros(shape = (N, N))\n",
    "\n",
    "for m in range(M):\n",
    "    for i in range(N):\n",
    "        for j in range(N):\n",
    "            connectivity[i][j] = connectivity[i][j] + (patterns[m][i] * patterns[m][j])\n",
    "            connectivity[i][i] = 0\n",
    "            \n",
    "Wij = connectivity / np.sqrt(M)"
   ]
  },
  {
   "cell_type": "code",
   "execution_count": 148,
   "metadata": {},
   "outputs": [
    {
     "data": {
      "text/plain": [
       "array([-4.2, -4. , -3.8, -3.6, -3.4, -3.2, -3. , -2.8, -2.6, -2.4, -2.2,\n",
       "       -2. , -1.8, -1.6, -1.4, -1.2, -1. , -0.8, -0.6, -0.4, -0.2,  0. ,\n",
       "        0.2,  0.4,  0.6,  0.8,  1. ,  1.2,  1.4,  1.6,  1.8,  2. ,  2.2,\n",
       "        2.4,  2.6,  2.8,  3. ,  3.2,  3.4,  3.6,  3.8,  4. ,  4.2,  4.4])"
      ]
     },
     "execution_count": 148,
     "metadata": {},
     "output_type": "execute_result"
    }
   ],
   "source": [
    "np.unique(Wij)"
   ]
  },
  {
   "cell_type": "code",
   "execution_count": 58,
   "metadata": {},
   "outputs": [],
   "source": [
    "#x is our network's activity pattern, this changes over a certain number of timesteps and represents the value of each of the neurons within the second dim\n",
    "\n",
    "X = np.zeros(shape = (timesteps, N))"
   ]
  },
  {
   "cell_type": "code",
   "execution_count": 59,
   "metadata": {},
   "outputs": [],
   "source": [
    "#creating a state at X0 that is similar (or in this case the same) to one of the patterns\n",
    "\n",
    "X[0] = patterns[0]"
   ]
  },
  {
   "cell_type": "code",
   "execution_count": 60,
   "metadata": {},
   "outputs": [],
   "source": [
    "X[0][5:405] = np.random.choice([-1, 1], 400)"
   ]
  },
  {
   "cell_type": "code",
   "execution_count": 61,
   "metadata": {},
   "outputs": [
    {
     "name": "stdout",
     "output_type": "stream",
     "text": [
      "Wall time: 1 ms\n"
     ]
    }
   ],
   "source": [
    "%%time\n",
    "\n",
    "#ok now lets generalize this function to multiple timesteps, and with every neuron in the network - this is the update rule\n",
    "\n",
    "for t in range(timesteps - 1):\n",
    "    X[t+1,:] = np.sign(Wij.dot(X[t,:]))"
   ]
  },
  {
   "cell_type": "code",
   "execution_count": 62,
   "metadata": {},
   "outputs": [
    {
     "name": "stdout",
     "output_type": "stream",
     "text": [
      "Wall time: 805 ms\n"
     ]
    }
   ],
   "source": [
    "%%time\n",
    "\n",
    "m_overlap = np.empty(shape = (timesteps, M))\n",
    "mu = []\n",
    "\n",
    "for t in range(timesteps):\n",
    "    for u in range(M):\n",
    "        mu = []\n",
    "        for j in range(N):\n",
    "            mu = np.append(mu, patterns[u][j] * X[t][j])\n",
    "        m_overlap[t][u] = ((1/N) * mu.sum())\n",
    "        \n",
    "        \n",
    "#create an overlap array that contains each timestep in the first dimension and the overlap value (which I think should be a percentage?) \n",
    "#for M number of patterns in the second dimension "
   ]
  },
  {
   "cell_type": "code",
   "execution_count": 63,
   "metadata": {},
   "outputs": [
    {
     "name": "stdout",
     "output_type": "stream",
     "text": [
      "0.47250000000000003\n",
      "0.9400000000000001\n",
      "1.0\n"
     ]
    }
   ],
   "source": [
    "for i in range(timesteps):\n",
    "    print(m_overlap[i][0])"
   ]
  },
  {
   "cell_type": "code",
   "execution_count": 28,
   "metadata": {},
   "outputs": [],
   "source": [
    "def hopfield_model_fxn_working(mem, neu, tim = 10):\n",
    "\n",
    "    M = mem #number of memories\n",
    "    N = neu #number of neurons\n",
    "    timesteps = tim #number of timesteps for the simulation\n",
    "\n",
    "\n",
    "    #creating patterns\n",
    "\n",
    "    patterns = np.empty(shape = (M, N))\n",
    "    for m in range(M):\n",
    "        patterns[m] = np.random.choice([-1, 1], N)\n",
    "\n",
    "\n",
    "    #creating the initial connectivity matrix based on a sum of the patterns\n",
    "\n",
    "    connectivity = np.zeros(shape = (N, N))\n",
    "    for m in range(M):\n",
    "        for i in range(N):\n",
    "            for j in range(N):\n",
    "                connectivity[i][j] = connectivity[i][j] + (patterns[m][i] * patterns[m][j])\n",
    "                connectivity[i][i] = 0\n",
    "    Wij = connectivity / np.sqrt(M)\n",
    "\n",
    "    \n",
    "    #want an initial overlap of 0.8\n",
    "    X = np.zeros(shape = (timesteps, N))\n",
    "    X[0] = patterns[0]\n",
    "    n_change = int(X[0].shape[0] * 0.2)\n",
    "#     X[0][1:n_change] = -X[0][1:n_change]\n",
    "\n",
    "    for t in range(timesteps - 1):\n",
    "        X[t+1,:] = np.sign(Wij.dot(X[t,:]))\n",
    "\n",
    "    m_overlap = np.empty(shape = (timesteps, M))\n",
    "    mu = []\n",
    "\n",
    "    for t in range(timesteps):\n",
    "        for u in range(M):\n",
    "            mu = []\n",
    "            for j in range(N):\n",
    "                mu = np.append(mu, patterns[u][j] * X[t][j])\n",
    "            m_overlap[t][u] = ((1/N) * mu.sum())\n",
    "    \n",
    "    #return the value of the corrupted memory \n",
    "    return(m_overlap[1][0])"
   ]
  },
  {
   "cell_type": "code",
   "execution_count": 26,
   "metadata": {},
   "outputs": [
    {
     "name": "stdout",
     "output_type": "stream",
     "text": [
      "[[ 0.6025  0.015  -0.005  -0.025   0.055  -0.015   0.015   0.0225 -0.0075\n",
      "   0.01    0.015   0.0075  0.02   -0.0475 -0.05   -0.03    0.0525  0.0475\n",
      "  -0.0125 -0.035   0.09   -0.0175  0.0225  0.0075  0.      0.0325  0.0525\n",
      "  -0.0225  0.025  -0.02   -0.0125  0.015  -0.01   -0.04   -0.03    0.005\n",
      "  -0.025  -0.005   0.03    0.025   0.0025  0.06    0.01    0.0025  0.025\n",
      "   0.05   -0.055   0.0175 -0.0125 -0.015   0.01    0.035  -0.035   0.0225\n",
      "  -0.005   0.0475 -0.035   0.0425  0.0075 -0.0325  0.005   0.035   0.05\n",
      "   0.0175  0.0775 -0.0225 -0.0125  0.0575  0.0025 -0.04    0.02    0.0025\n",
      "   0.01   -0.025   0.0625  0.0175  0.0325  0.0275  0.03   -0.0575  0.02\n",
      "   0.02    0.02   -0.1     0.005   0.015  -0.04    0.0325 -0.0675 -0.0075\n",
      "   0.0075  0.02   -0.0275 -0.02   -0.055  -0.0775 -0.08  ]\n",
      " [ 0.9275  0.06   -0.01   -0.045   0.03   -0.065   0.01   -0.0025 -0.0075\n",
      "   0.02    0.     -0.0175 -0.005  -0.0575 -0.035   0.      0.0725  0.0175\n",
      "  -0.0225 -0.08    0.105  -0.0025  0.0525 -0.0675  0.02    0.1125  0.0675\n",
      "  -0.0425  0.09   -0.04   -0.0225  0.04   -0.015   0.005  -0.055   0.01\n",
      "  -0.015  -0.02    0.03    0.015   0.0375  0.065   0.     -0.0275  0.005\n",
      "   0.01   -0.08   -0.0075  0.0175 -0.05   -0.025   0.05    0.005   0.0375\n",
      "  -0.02    0.0775 -0.02    0.0675 -0.0075 -0.0825 -0.04    0.045   0.035\n",
      "  -0.0275  0.0425 -0.0375  0.0025  0.1175 -0.0025 -0.025  -0.055  -0.0125\n",
      "  -0.05   -0.01    0.0375 -0.0075  0.0225  0.0525  0.04   -0.0575  0.04\n",
      "   0.035   0.035  -0.16    0.01    0.09   -0.085   0.0475 -0.0725 -0.0075\n",
      "  -0.0175  0.02   -0.0525  0.01   -0.045  -0.0925 -0.095 ]]\n",
      "Wall time: 1min 27s\n"
     ]
    }
   ],
   "source": [
    "%%time\n",
    "\n",
    "theo_max = N * .14 #theoretical maximum capacity of the network according to OG publication\n",
    "mem_tests = 1 #total tests to run\n",
    "starting_mem_count = int(theo_max - 15) #starting number of memories for testing the model\n",
    "tim = 2 #number of timesteps, they state in the paper that their overlap was calculated after a single step\n",
    "\n",
    "output = np.empty(shape = (mem_tests))\n",
    "\n",
    "for i in range(mem_tests):\n",
    "    i = i + starting_mem_count\n",
    "    output[i - starting_mem_count] = hopfield_model_fxn_working(mem = i, neu = 800, tim = 2)"
   ]
  },
  {
   "cell_type": "code",
   "execution_count": 60,
   "metadata": {},
   "outputs": [],
   "source": [
    "def hopfield_model(mem, neu, tim = 2):\n",
    "\n",
    "    M = mem #number of memories\n",
    "    N = neu #number of neurons\n",
    "    timesteps = tim #number of timesteps for the simulation\n",
    "\n",
    "\n",
    "    #creating patterns\n",
    "\n",
    "    patterns = np.empty(shape = (M, N))\n",
    "    for m in range(M):\n",
    "        patterns[m] = np.random.choice([-1, 1], N)\n",
    "\n",
    "\n",
    "    #creating the initial connectivity matrix based on a sum of the patterns\n",
    "\n",
    "    connectivity = np.zeros(shape = (N, N))\n",
    "    for m in range(M):\n",
    "        for i in range(N):\n",
    "            for j in range(N):\n",
    "                connectivity[i][j] = connectivity[i][j] + (patterns[m][i] * patterns[m][j])\n",
    "                connectivity[i][i] = 0\n",
    "    Wij = connectivity / np.sqrt(M)\n",
    "\n",
    "\n",
    "    #want an initial overlap of 0.8\n",
    "    X = np.zeros(shape = (timesteps, N))\n",
    "    X[0] = patterns[0]\n",
    "    n_change = int(X[0].shape[0] * 0.1)\n",
    "    X[0][1:n_change] = -X[0][1:n_change]\n",
    "\n",
    "    for t in range(timesteps - 1):\n",
    "        X[t+1,:] = np.sign(Wij.dot(X[t,:]))\n",
    "\n",
    "    m_overlap = np.empty(shape = (timesteps, M))\n",
    "    mu = []\n",
    "\n",
    "    for t in range(timesteps):\n",
    "        for u in range(M):\n",
    "            mu = []\n",
    "            for j in range(N):\n",
    "                mu = np.append(mu, patterns[u][j] * X[t][j])\n",
    "            m_overlap[t][u] = ((1/N) * mu.sum())\n",
    "            \n",
    "    return(m_overlap.take(0, axis = 1))"
   ]
  },
  {
   "cell_type": "code",
   "execution_count": 110,
   "metadata": {},
   "outputs": [],
   "source": [
    "def hopfield_model_synaptic_deletion(mem, neu, tim = 2, deletion_type = 'min_val', threshold = .5):\n",
    "\n",
    "    M = mem #number of memories\n",
    "    N = neu #number of neurons\n",
    "    timesteps = tim #number of timesteps for the simulation\n",
    "\n",
    "\n",
    "    #creating patterns\n",
    "    patterns = np.empty(shape = (M, N))\n",
    "    for m in range(M):\n",
    "        patterns[m] = np.random.choice([-1, 1], N)\n",
    "\n",
    "\n",
    "    #creating the initial connectivity matrix based on a sum of the patterns\n",
    "    connectivity = np.zeros(shape = (N, N))\n",
    "    for m in range(M):\n",
    "        for i in range(N):\n",
    "            for j in range(N):\n",
    "                connectivity[i][j] = connectivity[i][j] + (patterns[m][i] * patterns[m][j])\n",
    "                connectivity[i][i] = 0\n",
    "    \n",
    "    Wij = connectivity / np.sqrt(M)\n",
    "    z = Wij.copy()\n",
    "    t = threshold\n",
    "    \n",
    "    ## min val deletion\n",
    "    if deletion_type == 'min_val':\n",
    "        for i in range(len(z[i])):\n",
    "            for j in range(len(z[j])):\n",
    "                if np.abs(z[i][j]) > t:\n",
    "                    z[i][j] = z[i][j]\n",
    "                elif z[i][j] == t:\n",
    "                    z[i][j] = 0\n",
    "                else:\n",
    "                    z[i][j] = 0\n",
    "    ##compressed deletion\n",
    "    if deletion_type == 'compressed':\n",
    "        for i in range(len(z[i])):\n",
    "            for j in range(len(z[j])):\n",
    "                if np.abs(z[i]) <= t:\n",
    "                    z[i][j] = 0\n",
    "                elif z[i][j] > t:\n",
    "                    z[i][j] = z[i][j] - t\n",
    "                elif z[i][j] < -t:\n",
    "                    z[i][j] = z[i][j] + t\n",
    "    ##clipping modification/deletion\n",
    "    if deletion_type == 'clipping':\n",
    "        for i in range(len(z[i])):\n",
    "            for j in range(len(z[j])):\n",
    "                if z[i][j] > t:\n",
    "                    z[i][j] = 1\n",
    "                elif z[i][j] < -t:\n",
    "                    z[i][j] = -1\n",
    "                else:\n",
    "                    z[i][j] = 0\n",
    "    \n",
    "    #set the connectivity matrix to the modified/deleted synaptic values\n",
    "    Wij = z.copy()\n",
    "\n",
    "    #want an initial overlap of 0.8\n",
    "    X = np.zeros(shape = (timesteps, N))\n",
    "    X[0] = patterns[0].copy()\n",
    "    n_change = int(X[0].shape[0] * 0.1)\n",
    "    X[0][1:n_change] = -X[0][1:n_change]\n",
    "\n",
    "    for t in range(timesteps - 1):\n",
    "        X[t+1,:] = np.sign(Wij.dot(X[t,:]))\n",
    "\n",
    "    m_overlap = np.empty(shape = (timesteps, M))\n",
    "    mu = []\n",
    "\n",
    "    for t in range(timesteps):\n",
    "        for u in range(M):\n",
    "            mu = []\n",
    "            for j in range(N):\n",
    "                mu = np.append(mu, patterns[u][j] * X[t][j])\n",
    "            m_overlap[t][u] = ((1/N) * mu.sum())\n",
    "            \n",
    "    return(m_overlap.take(0, axis = 1)[1])"
   ]
  },
  {
   "cell_type": "code",
   "execution_count": 114,
   "metadata": {},
   "outputs": [
    {
     "data": {
      "text/plain": [
       "array([  0,   2,   4,   6,   8,  10,  12,  14,  16,  18,  20,  22,  24,\n",
       "        26,  28,  30,  32,  34,  36,  38,  40,  42,  44,  46,  48,  50,\n",
       "        52,  54,  56,  58,  60,  62,  64,  66,  68,  70,  72,  74,  76,\n",
       "        78,  80,  82,  84,  86,  88,  90,  92,  94,  96,  98, 100])"
      ]
     },
     "execution_count": 114,
     "metadata": {},
     "output_type": "execute_result"
    }
   ],
   "source": [
    "np.arange(0, 102, 2)"
   ]
  },
  {
   "cell_type": "code",
   "execution_count": null,
   "metadata": {},
   "outputs": [],
   "source": []
  }
 ],
 "metadata": {
  "kernelspec": {
   "display_name": "Python 3",
   "language": "python",
   "name": "python3"
  },
  "language_info": {
   "codemirror_mode": {
    "name": "ipython",
    "version": 3
   },
   "file_extension": ".py",
   "mimetype": "text/x-python",
   "name": "python",
   "nbconvert_exporter": "python",
   "pygments_lexer": "ipython3",
   "version": "3.7.4"
  }
 },
 "nbformat": 4,
 "nbformat_minor": 4
}

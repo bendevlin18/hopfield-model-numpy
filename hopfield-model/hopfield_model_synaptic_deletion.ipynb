{
 "cells": [
  {
   "cell_type": "markdown",
   "metadata": {},
   "source": [
    "## Based on work from [Chechik et al., 1998.](https://www-mitpressjournals-org.proxy.lib.duke.edu/doi/pdf/10.1162/089976698300017124)"
   ]
  },
  {
   "cell_type": "code",
   "execution_count": 1,
   "metadata": {},
   "outputs": [],
   "source": [
    "import numpy as np"
   ]
  },
  {
   "cell_type": "code",
   "execution_count": 135,
   "metadata": {},
   "outputs": [],
   "source": [
    "def hopfield_model_synaptic_deletion(mem, neu, tim, deletion_type, threshold = .5):\n",
    "\n",
    "    import numpy as np\n",
    "    import copy\n",
    "    \n",
    "    M = mem #number of memories\n",
    "    N = neu #number of neurons\n",
    "    timesteps = tim #number of timesteps for the simulation\n",
    "\n",
    "\n",
    "    #creating patterns\n",
    "    patterns = np.empty(shape = (M, N))\n",
    "    for m in range(M):\n",
    "        patterns[m] = np.random.choice([-1, 1], N)\n",
    "\n",
    "\n",
    "    #creating the initial connectivity matrix based on a sum of the patterns - THIS SEEMS TO BE THE BOTTLENECK\n",
    "    connectivity = np.zeros(shape = (N, N))\n",
    "    for m in range(M):\n",
    "        connectivity += np.outer(patterns[m], patterns[m].T)\n",
    "    for i in range(N):\n",
    "        connectivity[i][i] = 0\n",
    "    \n",
    "    Wij = connectivity / np.sqrt(M)\n",
    "    z = Wij.copy()\n",
    "    t = threshold\n",
    "    \n",
    "    ## min val deletion\n",
    "    if deletion_type == 'min_val':\n",
    "        for i in range(len(z)):\n",
    "            for j in range(len(z)):\n",
    "                if np.abs(z[i][j]) > t:\n",
    "                    z[i][j] = z[i][j]\n",
    "                elif z[i][j] == t:\n",
    "                    z[i][j] = 0\n",
    "                else:\n",
    "                    z[i][j] = 0\n",
    "    ##compressed deletion\n",
    "    if deletion_type == 'compressed':\n",
    "        for i in range(len(z)):\n",
    "            for j in range(len(z)):\n",
    "                if np.abs(z[i][j]) <= t:\n",
    "                    z[i][j] = 0\n",
    "                elif z[i][j] > t:\n",
    "                    z[i][j] = z[i][j] - t\n",
    "                elif z[i][j] < -t:\n",
    "                    z[i][j] = z[i][j] + t\n",
    "    ##clipping modification/deletion\n",
    "    if deletion_type == 'clipping':\n",
    "        for i in range(len(z)):\n",
    "            for j in range(len(z)):\n",
    "                if z[i][j] > t:\n",
    "                    z[i][j] = 1\n",
    "                elif z[i][j] < -t:\n",
    "                    z[i][j] = -1\n",
    "                else:\n",
    "                    z[i][j] = 0\n",
    "    \n",
    "    #set the connectivity matrix to the modified/deleted synaptic values\n",
    "    Wij = z.copy()\n",
    "\n",
    "    #want an initial overlap of 0.8\n",
    "    X = np.zeros(shape = (timesteps, N))\n",
    "    X[0] = patterns[0].copy()\n",
    "    n_change = int(X[0].shape[0] * 0.1)\n",
    "    X[0][1:n_change] = -X[0][1:n_change]\n",
    "    \n",
    "    \n",
    "    #update the model for every timestep based on its sign\n",
    "    for t in range(timesteps - 1):\n",
    "        X[t+1,:] = np.sign(Wij.dot(X[t,:]))\n",
    "\n",
    "    #create an array to hold the overlap percentages   \n",
    "    m_overlap = np.empty(shape = (timesteps, M))\n",
    "    mu = []\n",
    "\n",
    "    #calculate overlap percentages\n",
    "    for t in range(timesteps):\n",
    "        for u in range(M):\n",
    "            mu = []\n",
    "            for j in range(N):\n",
    "                mu = np.append(mu, patterns[u][j] * X[t][j])\n",
    "            m_overlap[t][u] = ((1/N) * mu.sum())\n",
    "            \n",
    "    return(m_overlap.take(0, axis = 1)[1])"
   ]
  },
  {
   "cell_type": "code",
   "execution_count": 136,
   "metadata": {},
   "outputs": [],
   "source": [
    "import matplotlib.pyplot as plt"
   ]
  },
  {
   "cell_type": "code",
   "execution_count": 137,
   "metadata": {},
   "outputs": [
    {
     "name": "stdout",
     "output_type": "stream",
     "text": [
      "min_val\n",
      "compressed\n",
      "clipping\n",
      "Wall time: 7.48 s\n"
     ]
    }
   ],
   "source": [
    "%%time\n",
    "\n",
    "del_levels = np.arange(0, 100, 1)\n",
    "del_types = ['min_val', 'compressed', 'clipping']\n",
    "x = np.ones(shape = len(del_levels))\n",
    "memory = np.ones(shape = len(del_levels)) * 3\n",
    "i = -1\n",
    "outputs = []\n",
    "\n",
    "for del_type in del_types:\n",
    "    i = -1\n",
    "    for lvl in del_levels:\n",
    "        i = i + 1\n",
    "        while x[i] > .95:\n",
    "            memory[i] = memory[i] + 1\n",
    "            x[i] = hopfield_model_synaptic_deletion(mem = int(memory[i]), neu = 100-lvl, tim = 2, deletion_type = del_type, threshold = 1)\n",
    "    outputs = np.append(outputs, memory)\n",
    "    print(del_type)"
   ]
  },
  {
   "cell_type": "code",
   "execution_count": 138,
   "metadata": {},
   "outputs": [
    {
     "data": {
      "text/plain": [
       "array([10., 13., 14., 13., 16.,  8., 11.,  9., 12., 11.,  9., 12.,  9.,\n",
       "        9.,  9., 12., 11.,  8., 11.,  9., 10., 11., 11.,  8., 11.,  9.,\n",
       "        5., 11.,  6.,  9.,  9.,  6., 11.,  8.,  7.,  9.,  7.,  6., 10.,\n",
       "        4.,  9.,  9.,  8.,  9.,  8.,  9.,  9.,  8.,  5.,  9.,  8.,  4.,\n",
       "        6.,  8.,  6.,  6.,  5.,  9.,  8.,  8.,  7.,  7.,  9.,  6.,  6.,\n",
       "        7.,  8.,  4.,  4.,  9.,  6.,  4.,  6.,  8.,  4.,  4.,  4.,  4.,\n",
       "        4.,  4.,  4.,  4.,  5.,  4.,  4.,  4.,  4.,  4.,  4.,  4.,  4.,\n",
       "        4.,  4.,  4.,  4.,  4.,  5.,  4.,  4.,  4., 10., 13., 14., 13.,\n",
       "       16.,  8., 11.,  9., 12., 11.,  9., 12.,  9.,  9.,  9., 12., 11.,\n",
       "        8., 11.,  9., 10., 11., 11.,  8., 11.,  9.,  5., 11.,  6.,  9.,\n",
       "        9.,  6., 11.,  8.,  7.,  9.,  7.,  6., 10.,  4.,  9.,  9.,  8.,\n",
       "        9.,  8.,  9.,  9.,  8.,  5.,  9.,  8.,  4.,  6.,  8.,  6.,  6.,\n",
       "        5.,  9.,  8.,  8.,  7.,  7.,  9.,  6.,  6.,  7.,  8.,  4.,  4.,\n",
       "        9.,  6.,  4.,  6.,  8.,  4.,  4.,  4.,  4.,  4.,  4.,  4.,  4.,\n",
       "        5.,  4.,  4.,  4.,  4.,  4.,  4.,  4.,  4.,  4.,  4.,  4.,  4.,\n",
       "        4.,  5.,  4.,  4.,  4., 10., 13., 14., 13., 16.,  8., 11.,  9.,\n",
       "       12., 11.,  9., 12.,  9.,  9.,  9., 12., 11.,  8., 11.,  9., 10.,\n",
       "       11., 11.,  8., 11.,  9.,  5., 11.,  6.,  9.,  9.,  6., 11.,  8.,\n",
       "        7.,  9.,  7.,  6., 10.,  4.,  9.,  9.,  8.,  9.,  8.,  9.,  9.,\n",
       "        8.,  5.,  9.,  8.,  4.,  6.,  8.,  6.,  6.,  5.,  9.,  8.,  8.,\n",
       "        7.,  7.,  9.,  6.,  6.,  7.,  8.,  4.,  4.,  9.,  6.,  4.,  6.,\n",
       "        8.,  4.,  4.,  4.,  4.,  4.,  4.,  4.,  4.,  5.,  4.,  4.,  4.,\n",
       "        4.,  4.,  4.,  4.,  4.,  4.,  4.,  4.,  4.,  4.,  5.,  4.,  4.,\n",
       "        4.])"
      ]
     },
     "execution_count": 138,
     "metadata": {},
     "output_type": "execute_result"
    }
   ],
   "source": [
    "outputs"
   ]
  },
  {
   "cell_type": "code",
   "execution_count": 139,
   "metadata": {},
   "outputs": [
    {
     "data": {
      "image/png": "[encoded data removed]",
      "text/plain": [
       "<Figure size 432x288 with 1 Axes>"
      ]
     },
     "metadata": {
      "needs_background": "light"
     },
     "output_type": "display_data"
    }
   ],
   "source": [
    "plt.plot(outputs);"
   ]
  },
  {
   "cell_type": "code",
   "execution_count": 57,
   "metadata": {},
   "outputs": [],
   "source": [
    "min_val = memory.copy()"
   ]
  },
  {
   "cell_type": "code",
   "execution_count": 58,
   "metadata": {},
   "outputs": [
    {
     "data": {
      "text/plain": [
       "array([13.,  6., 11.,  4.,  9.,  9.,  7.,  9.,  9., 10.,  8.,  8., 10.,\n",
       "        4.,  4.,  6.,  6.,  4.,  6.,  4.])"
      ]
     },
     "execution_count": 58,
     "metadata": {},
     "output_type": "execute_result"
    }
   ],
   "source": [
    "min_val"
   ]
  },
  {
   "cell_type": "code",
   "execution_count": 59,
   "metadata": {},
   "outputs": [
    {
     "data": {
      "image/png": "[encoded data removed]",
      "text/plain": [
       "<Figure size 432x288 with 1 Axes>"
      ]
     },
     "metadata": {
      "needs_background": "light"
     },
     "output_type": "display_data"
    }
   ],
   "source": [
    "plt.plot(min_val);"
   ]
  },
  {
   "cell_type": "code",
   "execution_count": 104,
   "metadata": {},
   "outputs": [
    {
     "data": {
      "text/plain": [
       "(300,)"
      ]
     },
     "execution_count": 104,
     "metadata": {},
     "output_type": "execute_result"
    }
   ],
   "source": [
    "np.shape(outputs)"
   ]
  },
  {
   "cell_type": "code",
   "execution_count": 115,
   "metadata": {},
   "outputs": [
    {
     "name": "stderr",
     "output_type": "stream",
     "text": [
      "D:\\anaconda\\lib\\site-packages\\numpy\\core\\fromnumeric.py:3335: RuntimeWarning: Mean of empty slice.\n",
      "  out=out, **kwargs)\n",
      "D:\\anaconda\\lib\\site-packages\\numpy\\core\\_methods.py:161: RuntimeWarning: invalid value encountered in double_scalars\n",
      "  ret = ret.dtype.type(ret / rcount)\n"
     ]
    }
   ],
   "source": [
    "binned_counts = []\n",
    "c = 0\n",
    "for i in range(300):\n",
    "    d = c + 5\n",
    "    x = np.mean(outputs[c:d])\n",
    "    binned_counts = np.append(binned_counts, x)\n",
    "    c = d"
   ]
  },
  {
   "cell_type": "code",
   "execution_count": 118,
   "metadata": {},
   "outputs": [
    {
     "data": {
      "text/plain": [
       "[<matplotlib.lines.Line2D at 0x14dd5373988>]"
      ]
     },
     "execution_count": 118,
     "metadata": {},
     "output_type": "execute_result"
    },
    {
     "data": {
      "image/png": "[encoded data removed]",
      "text/plain": [
       "<Figure size 432x288 with 1 Axes>"
      ]
     },
     "metadata": {
      "needs_background": "light"
     },
     "output_type": "display_data"
    }
   ],
   "source": [
    "plt.plot(binned_counts[0:20])"
   ]
  },
  {
   "cell_type": "code",
   "execution_count": null,
   "metadata": {},
   "outputs": [],
   "source": []
  }
 ],
 "metadata": {
  "kernelspec": {
   "display_name": "Python 3",
   "language": "python",
   "name": "python3"
  },
  "language_info": {
   "codemirror_mode": {
    "name": "ipython",
    "version": 3
   },
   "file_extension": ".py",
   "mimetype": "text/x-python",
   "name": "python",
   "nbconvert_exporter": "python",
   "pygments_lexer": "ipython3",
   "version": "3.7.4"
  }
 },
 "nbformat": 4,
 "nbformat_minor": 4
}

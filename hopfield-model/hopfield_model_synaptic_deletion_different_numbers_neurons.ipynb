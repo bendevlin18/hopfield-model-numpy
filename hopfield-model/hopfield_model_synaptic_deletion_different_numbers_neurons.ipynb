{
 "cells": [
  {
   "cell_type": "markdown",
   "metadata": {},
   "source": [
    "### Larger network with pruned synapses holds more memories than an unpruned smaller network"
   ]
  },
  {
   "cell_type": "markdown",
   "metadata": {},
   "source": [
    "#### Based on work from [Chechik et al., 1998.](https://www-mitpressjournals-org.proxy.lib.duke.edu/doi/pdf/10.1162/089976698300017124)"
   ]
  },
  {
   "cell_type": "code",
   "execution_count": 1,
   "metadata": {},
   "outputs": [],
   "source": [
    "import numpy as np\n",
    "import matplotlib.pyplot as plt\n",
    "import pandas as pd\n",
    "import copy"
   ]
  },
  {
   "cell_type": "code",
   "execution_count": 2,
   "metadata": {},
   "outputs": [],
   "source": [
    "### we want there to be multiple numbers of neurons, but each network to be pruned to the same amount of synapses (160,000) which is \n",
    "### the value when the original 800 neuron network is completely intact"
   ]
  },
  {
   "cell_type": "code",
   "execution_count": 3,
   "metadata": {},
   "outputs": [],
   "source": [
    "def hopfield_model_synaptic_deletion_min_val(mem, neu, tim, threshold):\n",
    "\n",
    "    import numpy as np\n",
    "    import copy\n",
    "    \n",
    "    M = mem #number of memories\n",
    "    N = neu #number of neurons\n",
    "    timesteps = tim #number of timesteps for the simulation\n",
    "\n",
    "\n",
    "    #creating patterns\n",
    "    patterns = np.empty(shape = (M, N))\n",
    "    for m in range(M):\n",
    "        patterns[m] = np.random.choice([-1, 1], N)\n",
    "\n",
    "\n",
    "    #creating the initial connectivity matrix based on a sum of the patterns - THIS SEEMS TO BE THE BOTTLENECK\n",
    "    connectivity = np.zeros(shape = (N, N))\n",
    "    for m in range(M):\n",
    "        connectivity += np.outer(patterns[m], patterns[m].T)\n",
    "    for i in range(N):\n",
    "        connectivity[i][i] = 0\n",
    "    \n",
    "    Wij = connectivity / np.sqrt(M)\n",
    "    z = Wij.copy()\n",
    "    t = threshold\n",
    "    \n",
    "    ## min val deletion\n",
    "    for i in range(len(z)):\n",
    "        for j in range(len(z)):\n",
    "            if np.abs(z[i][j]) > t:\n",
    "                z[i][j] = z[i][j]\n",
    "            elif z[i][j] == t:\n",
    "                z[i][j] = 0\n",
    "            else:\n",
    "                z[i][j] = 0\n",
    "    \n",
    "    #set the connectivity matrix to the modified/deleted synaptic values\n",
    "    Wij = z.copy()\n",
    "\n",
    "    #want an initial overlap of 0.8\n",
    "    X = np.zeros(shape = (timesteps, N))\n",
    "    X[0] = patterns[0].copy()\n",
    "    n_change = int(X[0].shape[0] * 0.1)\n",
    "    X[0][1:n_change] = -X[0][1:n_change]\n",
    "    \n",
    "    \n",
    "    #update the model for every timestep based on its sign\n",
    "    for t in range(timesteps - 1):\n",
    "        X[t+1,:] = np.sign(Wij.dot(X[t,:]))\n",
    "\n",
    "    #create an array to hold the overlap percentages   \n",
    "    m_overlap = np.empty(shape = (timesteps, M))\n",
    "    mu = []\n",
    "\n",
    "    #calculate overlap percentages\n",
    "    for t in range(timesteps):\n",
    "        for u in range(M):\n",
    "            mu = []\n",
    "            for j in range(N):\n",
    "                mu = np.append(mu, patterns[u][j] * X[t][j])\n",
    "            m_overlap[t][u] = ((1/N) * mu.sum())\n",
    "            \n",
    "            \n",
    "    #get the number of zeros that resulted in the Wij connectivity matrix following this pruning step\n",
    "    counts = np.unique(Wij, return_counts = True)       \n",
    "    zeros = counts[1][counts[0] == 0]        \n",
    "            \n",
    "    return(m_overlap.take(0, axis = 1)[1], zeros)"
   ]
  },
  {
   "cell_type": "code",
   "execution_count": 4,
   "metadata": {},
   "outputs": [],
   "source": [
    "def hopfield_model_synaptic_deletion_random(mem, neu, tim, threshold):\n",
    "\n",
    "    import numpy as np\n",
    "    import copy\n",
    "    \n",
    "    M = mem #number of memories\n",
    "    N = neu #number of neurons\n",
    "    timesteps = tim #number of timesteps for the simulation\n",
    "\n",
    "\n",
    "    #creating patterns\n",
    "    patterns = np.empty(shape = (M, N))\n",
    "    for m in range(M):\n",
    "        patterns[m] = np.random.choice([-1, 1], N)\n",
    "\n",
    "\n",
    "    #creating the initial connectivity matrix based on a sum of the patterns - THIS SEEMS TO BE THE BOTTLENECK\n",
    "    connectivity = np.zeros(shape = (N, N))\n",
    "    for m in range(M):\n",
    "        connectivity += np.outer(patterns[m], patterns[m].T)\n",
    "    for i in range(N):\n",
    "        connectivity[i][i] = 0\n",
    "    \n",
    "    Wij = connectivity / np.sqrt(M)\n",
    "    z = Wij.copy()\n",
    "    t = threshold\n",
    "    \n",
    "    ## random deletion\n",
    "\n",
    "    indices = np.random.choice(np.arange(z.size), replace=False, size=int(z.size * t))\n",
    "    z_flat = z.flatten()\n",
    "    z_flat[indices] = 0\n",
    "    z = z_flat.reshape((Wij.shape))\n",
    "\n",
    "    \n",
    "    #set the connectivity matrix to the modified/deleted synaptic values\n",
    "    Wij = z.copy()\n",
    "\n",
    "    #want an initial overlap of 0.8\n",
    "    X = np.zeros(shape = (timesteps, N))\n",
    "    X[0] = patterns[0].copy()\n",
    "    n_change = int(X[0].shape[0] * 0.1)\n",
    "    X[0][1:n_change] = -X[0][1:n_change]\n",
    "    \n",
    "    \n",
    "    #update the model for every timestep based on its sign\n",
    "    for t in range(timesteps - 1):\n",
    "        X[t+1,:] = np.sign(Wij.dot(X[t,:]))\n",
    "\n",
    "    #create an array to hold the overlap percentages   \n",
    "    m_overlap = np.empty(shape = (timesteps, M))\n",
    "    mu = []\n",
    "\n",
    "    #calculate overlap percentages\n",
    "    for t in range(timesteps):\n",
    "        for u in range(M):\n",
    "            mu = []\n",
    "            for j in range(N):\n",
    "                mu = np.append(mu, patterns[u][j] * X[t][j])\n",
    "            m_overlap[t][u] = ((1/N) * mu.sum())\n",
    "            \n",
    "    #get the number of zeros that resulted in the Wij connectivity matrix following this pruning step\n",
    "    counts = np.unique(Wij, return_counts = True)       \n",
    "    zeros = counts[1][counts[0] == 0]        \n",
    "            \n",
    "    return(m_overlap.take(0, axis = 1)[1], zeros)"
   ]
  },
  {
   "cell_type": "code",
   "execution_count": 5,
   "metadata": {},
   "outputs": [
    {
     "name": "stdout",
     "output_type": "stream",
     "text": [
      "Wall time: 1h 15min 54s\n"
     ]
    }
   ],
   "source": [
    "%%time\n",
    "\n",
    "del_levels = np.arange(0, 1.5, .1)\n",
    "\n",
    "x = np.ones(shape = (len(del_levels), 2))\n",
    "memory = np.zeros(shape = len(del_levels))\n",
    "i = -1\n",
    "\n",
    "\n",
    "for lvl in del_levels:\n",
    "    i = i + 1\n",
    "    while x[i][0] > .95:\n",
    "        memory[i] = memory[i] + 1\n",
    "        x[i] = hopfield_model_synaptic_deletion_min_val(mem = int(memory[i]), neu = 900, tim = 2, threshold = 0 + lvl)"
   ]
  },
  {
   "cell_type": "code",
   "execution_count": 6,
   "metadata": {},
   "outputs": [],
   "source": [
    "nine_min = memory.copy()\n",
    "nine_min_x1 = x.copy()"
   ]
  },
  {
   "cell_type": "code",
   "execution_count": 7,
   "metadata": {},
   "outputs": [
    {
     "data": {
      "text/plain": [
       "array([125., 142., 127., 131., 118., 130., 121., 139., 127., 124.,   1.,\n",
       "         1.,   1.,   1.,   1.])"
      ]
     },
     "execution_count": 7,
     "metadata": {},
     "output_type": "execute_result"
    }
   ],
   "source": [
    "nine_min"
   ]
  },
  {
   "cell_type": "code",
   "execution_count": 8,
   "metadata": {},
   "outputs": [
    {
     "name": "stdout",
     "output_type": "stream",
     "text": [
      "Wall time: 1h 30min 8s\n"
     ]
    }
   ],
   "source": [
    "%%time\n",
    "\n",
    "del_levels = np.arange(0, 1.5, .1)\n",
    "\n",
    "x = np.ones(shape = (len(del_levels), 2))\n",
    "memory = np.zeros(shape = len(del_levels))\n",
    "i = -1\n",
    "\n",
    "\n",
    "for lvl in del_levels:\n",
    "    i = i + 1\n",
    "    while x[i][0] > .95:\n",
    "        memory[i] = memory[i] + 1\n",
    "        x[i] = hopfield_model_synaptic_deletion_min_val(mem = int(memory[i]), neu = 1000, tim = 2, threshold = 0 + lvl)"
   ]
  },
  {
   "cell_type": "code",
   "execution_count": 9,
   "metadata": {},
   "outputs": [],
   "source": [
    "thousand_min = memory.copy()\n",
    "thousand_min_x1 = x.copy()"
   ]
  },
  {
   "cell_type": "code",
   "execution_count": 10,
   "metadata": {},
   "outputs": [
    {
     "name": "stdout",
     "output_type": "stream",
     "text": [
      "Wall time: 1h 44min 24s\n"
     ]
    }
   ],
   "source": [
    "%%time\n",
    "\n",
    "del_levels = np.arange(0, 1.5, .1)\n",
    "\n",
    "x = np.ones(shape = (len(del_levels), 2))\n",
    "memory = np.zeros(shape = len(del_levels))\n",
    "i = -1\n",
    "\n",
    "\n",
    "for lvl in del_levels:\n",
    "    i = i + 1\n",
    "    while x[i][0] > .95:\n",
    "        memory[i] = memory[i] + 1\n",
    "        x[i] = hopfield_model_synaptic_deletion_min_val(mem = int(memory[i]), neu = 1100, tim = 2, threshold = 0 + lvl)"
   ]
  },
  {
   "cell_type": "code",
   "execution_count": 11,
   "metadata": {},
   "outputs": [],
   "source": [
    "eleven_min = memory.copy()\n",
    "eleven_min_x1 = x.copy()"
   ]
  },
  {
   "cell_type": "code",
   "execution_count": 12,
   "metadata": {},
   "outputs": [
    {
     "name": "stdout",
     "output_type": "stream",
     "text": [
      "Wall time: 19min 34s\n"
     ]
    }
   ],
   "source": [
    "%%time\n",
    "\n",
    "del_levels = np.arange(0, 1.05, .05)\n",
    "\n",
    "x = np.ones(shape = (len(del_levels), 2))\n",
    "memory = np.zeros(shape = len(del_levels))\n",
    "i = -1\n",
    "\n",
    "\n",
    "for lvl in del_levels:\n",
    "    i = i + 1\n",
    "    while x[i][0] > .95:\n",
    "        memory[i] = memory[i] + 1\n",
    "        x[i] = hopfield_model_synaptic_deletion_random(mem = int(memory[i]), neu = 900, tim = 2, threshold = 0 + lvl)"
   ]
  },
  {
   "cell_type": "code",
   "execution_count": 13,
   "metadata": {},
   "outputs": [],
   "source": [
    "nine_random = memory.copy()\n",
    "nine_random_x1 = x.copy()"
   ]
  },
  {
   "cell_type": "code",
   "execution_count": 14,
   "metadata": {},
   "outputs": [
    {
     "name": "stdout",
     "output_type": "stream",
     "text": [
      "Wall time: 28min 21s\n"
     ]
    }
   ],
   "source": [
    "%%time\n",
    "\n",
    "del_levels = np.arange(0, 1.05, .05)\n",
    "\n",
    "x = np.ones(shape = (len(del_levels), 2))\n",
    "memory = np.zeros(shape = len(del_levels))\n",
    "i = -1\n",
    "\n",
    "\n",
    "for lvl in del_levels:\n",
    "    i = i + 1\n",
    "    while x[i][0] > .95:\n",
    "        memory[i] = memory[i] + 1\n",
    "        x[i] = hopfield_model_synaptic_deletion_random(mem = int(memory[i]), neu = 1000, tim = 2, threshold = 0 + lvl)"
   ]
  },
  {
   "cell_type": "code",
   "execution_count": 15,
   "metadata": {},
   "outputs": [],
   "source": [
    "thousand_random = memory.copy()\n",
    "thousand_random_x1 = x.copy()"
   ]
  },
  {
   "cell_type": "code",
   "execution_count": 16,
   "metadata": {},
   "outputs": [
    {
     "name": "stdout",
     "output_type": "stream",
     "text": [
      "Wall time: 38min 3s\n"
     ]
    }
   ],
   "source": [
    "%%time\n",
    "\n",
    "del_levels = np.arange(0, 1.05, .05)\n",
    "\n",
    "x = np.ones(shape = (len(del_levels), 2))\n",
    "memory = np.zeros(shape = len(del_levels))\n",
    "i = -1\n",
    "\n",
    "\n",
    "for lvl in del_levels:\n",
    "    i = i + 1\n",
    "    while x[i][0] > .95:\n",
    "        memory[i] = memory[i] + 1\n",
    "        x[i] = hopfield_model_synaptic_deletion_random(mem = int(memory[i]), neu = 1100, tim = 2, threshold = 0 + lvl)"
   ]
  },
  {
   "cell_type": "code",
   "execution_count": 17,
   "metadata": {},
   "outputs": [],
   "source": [
    "eleven_random = memory.copy()\n",
    "eleven_random_x1 = x.copy()"
   ]
  },
  {
   "cell_type": "code",
   "execution_count": 18,
   "metadata": {},
   "outputs": [],
   "source": [
    "t = np.concatenate((np.arange(0, 1.5, 0.1), np.arange(0, 1.5, 0.1), np.arange(0, 1.5, 0.1), \n",
    "                    np.arange(0, 1.05, .05), np.arange(0, 1.05, .05), np.arange(0, 1.05, .05)))"
   ]
  },
  {
   "cell_type": "code",
   "execution_count": 47,
   "metadata": {},
   "outputs": [],
   "source": [
    "n_neurons = np.concatenate([np.repeat(900, len(nine_min)), np.repeat(1000, len(thousand_min)), np.repeat('1100', len(eleven_min)), \n",
    "                            np.repeat(900, len(nine_random)), np.repeat(1000, len(thousand_random)), np.repeat('1100', len(eleven_random))])\n",
    "del_type = np.concatenate([np.repeat('min_val', len(nine_min) + len(thousand_min) +len(eleven_min)), \n",
    "                           np.repeat('random', len(nine_random) + len(thousand_random) + len(eleven_random))])"
   ]
  },
  {
   "cell_type": "code",
   "execution_count": 48,
   "metadata": {},
   "outputs": [],
   "source": [
    "nine_min_x = []\n",
    "for i in range(len(nine_min_x1)):\n",
    "    nine_min_x = np.append(nine_min_x, nine_min_x1[i][1])\n",
    "    \n",
    "thousand_min_x = []\n",
    "for i in range(len(thousand_min_x1)):\n",
    "    thousand_min_x = np.append(thousand_min_x, thousand_min_x1[i][1])\n",
    "    \n",
    "eleven_min_x = []\n",
    "for i in range(len(eleven_min_x1)):\n",
    "    eleven_min_x = np.append(eleven_min_x, eleven_min_x1[i][1])\n",
    "    \n",
    "nine_random_x = []\n",
    "for i in range(len(nine_random_x1)):\n",
    "    nine_random_x = np.append(nine_random_x, nine_random_x1[i][1])\n",
    "    \n",
    "thousand_random_x = []\n",
    "for i in range(len(thousand_random_x1)):\n",
    "    thousand_random_x = np.append(thousand_random_x, thousand_random_x1[i][1])\n",
    "    \n",
    "eleven_random_x = []\n",
    "for i in range(len(eleven_random_x1)):\n",
    "    eleven_random_x = np.append(eleven_random_x, eleven_random_x1[i][1])"
   ]
  },
  {
   "cell_type": "code",
   "execution_count": 49,
   "metadata": {},
   "outputs": [],
   "source": [
    "n_memories = np.concatenate([nine_min, thousand_min, eleven_min, nine_random, thousand_random, eleven_random])\n",
    "n_syn_deleted  = np.concatenate([nine_min_x, thousand_min_x, eleven_min_x, nine_random_x, thousand_random_x, eleven_random_x])"
   ]
  },
  {
   "cell_type": "code",
   "execution_count": 50,
   "metadata": {},
   "outputs": [],
   "source": [
    "df = pd.DataFrame({'threshold':t, 'n_neurons':n_neurons, 'del_type': del_type, 'n_memories':n_memories, 'n_syn_deleted':n_syn_deleted})"
   ]
  },
  {
   "cell_type": "code",
   "execution_count": 64,
   "metadata": {},
   "outputs": [],
   "source": [
    "df['n_syn'] = (df['n_neurons'].astype('int') * df['n_neurons'].astype('int')) - df['n_syn_deleted']"
   ]
  },
  {
   "cell_type": "code",
   "execution_count": 65,
   "metadata": {},
   "outputs": [],
   "source": [
    "df.to_csv('C:\\\\Users\\\\Minecraft in 4K\\\\Dropbox\\\\spr_2020_classes\\\\quant_neurobio\\\\final_results_mean_tidy_fig2.csv')"
   ]
  },
  {
   "cell_type": "code",
   "execution_count": 74,
   "metadata": {},
   "outputs": [
    {
     "data": {
      "text/html": [
       "<div>\n",
       "<style scoped>\n",
       "    .dataframe tbody tr th:only-of-type {\n",
       "        vertical-align: middle;\n",
       "    }\n",
       "\n",
       "    .dataframe tbody tr th {\n",
       "        vertical-align: top;\n",
       "    }\n",
       "\n",
       "    .dataframe thead th {\n",
       "        text-align: right;\n",
       "    }\n",
       "</style>\n",
       "<table border=\"1\" class=\"dataframe\">\n",
       "  <thead>\n",
       "    <tr style=\"text-align: right;\">\n",
       "      <th></th>\n",
       "      <th>threshold</th>\n",
       "      <th>n_neurons</th>\n",
       "      <th>del_type</th>\n",
       "      <th>n_memories</th>\n",
       "      <th>n_syn_deleted</th>\n",
       "      <th>n_syn</th>\n",
       "    </tr>\n",
       "  </thead>\n",
       "  <tbody>\n",
       "    <tr>\n",
       "      <th>0</th>\n",
       "      <td>0.0</td>\n",
       "      <td>900</td>\n",
       "      <td>min_val</td>\n",
       "      <td>125.0</td>\n",
       "      <td>900.0</td>\n",
       "      <td>809100.0</td>\n",
       "    </tr>\n",
       "    <tr>\n",
       "      <th>1</th>\n",
       "      <td>0.1</td>\n",
       "      <td>900</td>\n",
       "      <td>min_val</td>\n",
       "      <td>142.0</td>\n",
       "      <td>55336.0</td>\n",
       "      <td>754664.0</td>\n",
       "    </tr>\n",
       "    <tr>\n",
       "      <th>2</th>\n",
       "      <td>0.2</td>\n",
       "      <td>900</td>\n",
       "      <td>min_val</td>\n",
       "      <td>127.0</td>\n",
       "      <td>115530.0</td>\n",
       "      <td>694470.0</td>\n",
       "    </tr>\n",
       "    <tr>\n",
       "      <th>3</th>\n",
       "      <td>0.3</td>\n",
       "      <td>900</td>\n",
       "      <td>min_val</td>\n",
       "      <td>131.0</td>\n",
       "      <td>221830.0</td>\n",
       "      <td>588170.0</td>\n",
       "    </tr>\n",
       "    <tr>\n",
       "      <th>4</th>\n",
       "      <td>0.4</td>\n",
       "      <td>900</td>\n",
       "      <td>min_val</td>\n",
       "      <td>118.0</td>\n",
       "      <td>286466.0</td>\n",
       "      <td>523534.0</td>\n",
       "    </tr>\n",
       "  </tbody>\n",
       "</table>\n",
       "</div>"
      ],
      "text/plain": [
       "   threshold n_neurons del_type  n_memories  n_syn_deleted     n_syn\n",
       "0        0.0       900  min_val       125.0          900.0  809100.0\n",
       "1        0.1       900  min_val       142.0        55336.0  754664.0\n",
       "2        0.2       900  min_val       127.0       115530.0  694470.0\n",
       "3        0.3       900  min_val       131.0       221830.0  588170.0\n",
       "4        0.4       900  min_val       118.0       286466.0  523534.0"
      ]
     },
     "execution_count": 74,
     "metadata": {},
     "output_type": "execute_result"
    }
   ],
   "source": [
    "df.head()"
   ]
  },
  {
   "cell_type": "code",
   "execution_count": 66,
   "metadata": {},
   "outputs": [],
   "source": [
    "df_800 = pd.read_csv('C:\\\\Users\\\\Minecraft in 4K\\\\Dropbox\\\\spr_2020_classes\\\\quant_neurobio\\\\final_results_mean_tidy.csv')"
   ]
  },
  {
   "cell_type": "code",
   "execution_count": 68,
   "metadata": {},
   "outputs": [],
   "source": [
    "df_800['n_neurons'] = np.repeat(800, len(df_800))"
   ]
  },
  {
   "cell_type": "code",
   "execution_count": 75,
   "metadata": {},
   "outputs": [],
   "source": [
    "df_800['n_syn'] = (df_800['n_neurons'].astype('int') * df_800['n_neurons'].astype('int')) - df_800['n_syn_deleted']"
   ]
  },
  {
   "cell_type": "code",
   "execution_count": 77,
   "metadata": {},
   "outputs": [],
   "source": [
    "df_800.rename(columns = {'n_mem':'n_memories'}, inplace = True)"
   ]
  },
  {
   "cell_type": "code",
   "execution_count": 83,
   "metadata": {},
   "outputs": [],
   "source": [
    "df_800.drop('del_level', axis =1, inplace = True)"
   ]
  },
  {
   "cell_type": "code",
   "execution_count": 87,
   "metadata": {},
   "outputs": [],
   "source": [
    "df_final = df.append(df_800)"
   ]
  },
  {
   "cell_type": "code",
   "execution_count": 91,
   "metadata": {},
   "outputs": [
    {
     "data": {
      "text/plain": [
       "(array(['clipping', 'compressed', 'min_val', 'random'], dtype=object),\n",
       " array([15, 15, 60, 84], dtype=int64))"
      ]
     },
     "execution_count": 91,
     "metadata": {},
     "output_type": "execute_result"
    }
   ],
   "source": [
    "np.unique(df_final['del_type'], return_counts = True)"
   ]
  },
  {
   "cell_type": "code",
   "execution_count": 92,
   "metadata": {},
   "outputs": [],
   "source": [
    "df_final.to_csv('C:\\\\Users\\\\Minecraft in 4K\\\\Dropbox\\\\spr_2020_classes\\\\quant_neurobio\\\\final_results_mean_tidy_fig2.csv')"
   ]
  },
  {
   "cell_type": "code",
   "execution_count": null,
   "metadata": {},
   "outputs": [],
   "source": []
  }
 ],
 "metadata": {
  "kernelspec": {
   "display_name": "Python 3",
   "language": "python",
   "name": "python3"
  },
  "language_info": {
   "codemirror_mode": {
    "name": "ipython",
    "version": 3
   },
   "file_extension": ".py",
   "mimetype": "text/x-python",
   "name": "python",
   "nbconvert_exporter": "python",
   "pygments_lexer": "ipython3",
   "version": "3.7.4"
  }
 },
 "nbformat": 4,
 "nbformat_minor": 4
}

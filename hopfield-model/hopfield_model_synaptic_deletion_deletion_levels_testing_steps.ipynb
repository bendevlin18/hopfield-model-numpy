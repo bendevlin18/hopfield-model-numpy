{
 "cells": [
  {
   "cell_type": "markdown",
   "metadata": {},
   "source": [
    "## Based on work from [Chechik et al., 1998.](https://www-mitpressjournals-org.proxy.lib.duke.edu/doi/pdf/10.1162/089976698300017124)"
   ]
  },
  {
   "cell_type": "code",
   "execution_count": 1,
   "metadata": {},
   "outputs": [],
   "source": [
    "import numpy as np\n",
    "import matplotlib.pyplot as plt\n",
    "import pandas as pd\n",
    "import copy"
   ]
  },
  {
   "cell_type": "code",
   "execution_count": 2,
   "metadata": {},
   "outputs": [],
   "source": [
    "M = 20 #number of memories\n",
    "N = 150 #number of neurons\n",
    "timesteps = 2 #number of timesteps for the simulation\n",
    "\n",
    "\n",
    "#creating patterns\n",
    "patterns = np.empty(shape = (M, N))\n",
    "for m in range(M):\n",
    "    patterns[m] = np.random.choice([-1, 1], N)"
   ]
  },
  {
   "cell_type": "code",
   "execution_count": 3,
   "metadata": {},
   "outputs": [],
   "source": [
    "#creating the initial connectivity matrix based on a sum of the patterns - THIS SEEMS TO BE THE BOTTLENECK\n",
    "connectivity = np.zeros(shape = (N, N))\n",
    "for m in range(M):\n",
    "    connectivity += np.outer(patterns[m], patterns[m].T)\n",
    "for i in range(N):\n",
    "    connectivity[i][i] = 0\n",
    "\n",
    "Wij = connectivity / np.sqrt(M)\n",
    "z = Wij.copy()\n",
    "t = 1"
   ]
  },
  {
   "cell_type": "code",
   "execution_count": 6,
   "metadata": {},
   "outputs": [
    {
     "data": {
      "text/plain": [
       "(array([-4.02492236, -3.57770876, -3.13049517, -2.68328157, -2.23606798,\n",
       "        -1.78885438, -1.34164079, -0.89442719, -0.4472136 ,  0.        ,\n",
       "         0.4472136 ,  0.89442719,  1.34164079,  1.78885438,  2.23606798,\n",
       "         2.68328157,  3.13049517,  3.57770876]),\n",
       " array([   4,    4,   32,   80,  336,  844, 1678, 2728, 3606, 4224, 3450,\n",
       "        2638, 1584,  836,  326,   94,   34,    2], dtype=int64))"
      ]
     },
     "execution_count": 6,
     "metadata": {},
     "output_type": "execute_result"
    }
   ],
   "source": [
    "counts = np.unique(Wij, return_counts = True)\n",
    "counts"
   ]
  },
  {
   "cell_type": "code",
   "execution_count": 8,
   "metadata": {},
   "outputs": [
    {
     "data": {
      "text/plain": [
       "array([4224], dtype=int64)"
      ]
     },
     "execution_count": 8,
     "metadata": {},
     "output_type": "execute_result"
    }
   ],
   "source": [
    "zeros = counts[1][counts[0]==0]\n",
    "zeros"
   ]
  },
  {
   "cell_type": "code",
   "execution_count": null,
   "metadata": {},
   "outputs": [],
   "source": [
    "## min val deletion\n",
    "for i in range(len(z)):\n",
    "    for j in range(len(z)):\n",
    "        if np.abs(z[i][j]) > t:\n",
    "            z[i][j] = z[i][j]\n",
    "        elif z[i][j] == t:\n",
    "            z[i][j] = 0\n",
    "        else:\n",
    "            z[i][j] = 0"
   ]
  },
  {
   "cell_type": "code",
   "execution_count": null,
   "metadata": {},
   "outputs": [],
   "source": [
    "#set the connectivity matrix to the modified/deleted synaptic values\n",
    "Wij = z.copy()"
   ]
  }
 ],
 "metadata": {
  "kernelspec": {
   "display_name": "Python 3",
   "language": "python",
   "name": "python3"
  },
  "language_info": {
   "codemirror_mode": {
    "name": "ipython",
    "version": 3
   },
   "file_extension": ".py",
   "mimetype": "text/x-python",
   "name": "python",
   "nbconvert_exporter": "python",
   "pygments_lexer": "ipython3",
   "version": "3.7.4"
  }
 },
 "nbformat": 4,
 "nbformat_minor": 4
}

{
 "cells": [
  {
   "cell_type": "markdown",
   "metadata": {},
   "source": [
    "# __*Quant Neurobio Final Project*__\n",
    "- Modelling synaptic pruning during development\n",
    "\n",
    "Based on work from [Chechik et al., 1998.](https://www-mitpressjournals-org.proxy.lib.duke.edu/doi/pdf/10.1162/089976698300017124)"
   ]
  },
  {
   "cell_type": "code",
   "execution_count": 1,
   "metadata": {},
   "outputs": [],
   "source": [
    "import numpy as np\n",
    "import pandas as pd\n",
    "import matplotlib.pyplot as plt"
   ]
  },
  {
   "cell_type": "markdown",
   "metadata": {},
   "source": [
    "## Synaptic Deletion strategies\n",
    "- All depend on some arbitrary threshold (t)\n",
    "- Where z is the total strength of the synaptic connection"
   ]
  },
  {
   "cell_type": "markdown",
   "metadata": {},
   "source": [
    "#### _Minimal Value Deletion_"
   ]
  },
  {
   "cell_type": "code",
   "execution_count": 2,
   "metadata": {},
   "outputs": [],
   "source": [
    "def min_val_deletion(z, thresh):\n",
    "    for i in range(len(z)):\n",
    "        if np.abs(z[i]) > t:\n",
    "            z[i] = z[i]\n",
    "        elif z[i] == t:\n",
    "            z[i] = 0\n",
    "        else:\n",
    "            z[i] = 0\n",
    "        \n",
    "    return z"
   ]
  },
  {
   "cell_type": "code",
   "execution_count": 3,
   "metadata": {},
   "outputs": [
    {
     "data": {
      "image/png": "[encoded data removed]",
      "text/plain": [
       "<Figure size 432x288 with 1 Axes>"
      ]
     },
     "metadata": {
      "needs_background": "light"
     },
     "output_type": "display_data"
    }
   ],
   "source": [
    "fig = plt.figure()\n",
    "\n",
    "\n",
    "z = np.arange(-40, 40, 1)\n",
    "t = 10\n",
    "\n",
    "min_val_deletion(z, t)\n",
    "\n",
    "\n",
    "x = np.arange(-40, 40, 1)\n",
    "y = z\n",
    "\n",
    "ax = plt.gca()\n",
    "plt.title('Minimal Value Deletion')\n",
    "ax.plot(x, y, linewidth = 2, color = 'black')\n",
    "ax.spines['left'].set_position('zero')\n",
    "ax.spines['right'].set_color('none')\n",
    "ax.spines['bottom'].set_position('zero')\n",
    "ax.spines['top'].set_color('none')\n",
    "plt.xticks(ticks = [-t, t], labels = ['-t', 't'], fontsize = 'x-large')\n",
    "plt.yticks(ticks = []);"
   ]
  },
  {
   "cell_type": "markdown",
   "metadata": {},
   "source": [
    "#### _Clipping Modification_"
   ]
  },
  {
   "cell_type": "code",
   "execution_count": 4,
   "metadata": {},
   "outputs": [],
   "source": [
    "def clipping_mod(z, thresh):\n",
    "    for i in range(len(z)):\n",
    "        if z[i] > t:\n",
    "            z[i] = 1\n",
    "        elif z[i] < -t:\n",
    "            z[i] = -1\n",
    "        else:\n",
    "            z[i] = 0\n",
    "    return z"
   ]
  },
  {
   "cell_type": "code",
   "execution_count": 5,
   "metadata": {},
   "outputs": [
    {
     "data": {
      "image/png": "[encoded data removed]",
      "text/plain": [
       "<Figure size 432x288 with 1 Axes>"
      ]
     },
     "metadata": {
      "needs_background": "light"
     },
     "output_type": "display_data"
    }
   ],
   "source": [
    "fig = plt.figure()\n",
    "\n",
    "\n",
    "z = np.arange(-40, 40, 1)\n",
    "t = 10\n",
    "\n",
    "clipping_mod(z, t)\n",
    "\n",
    "x = np.arange(-40, 40, 1)\n",
    "y = z\n",
    "\n",
    "ax = plt.gca()\n",
    "plt.title('Clipping Modification')\n",
    "ax.plot(x, y, linewidth = 2, color = 'black')\n",
    "ax.spines['left'].set_position('zero')\n",
    "ax.spines['right'].set_color('none')\n",
    "ax.spines['bottom'].set_position('zero')\n",
    "ax.spines['top'].set_color('none')\n",
    "plt.xticks(ticks = [-t, t], labels = ['-t', 't'], fontsize = 'x-large')\n",
    "plt.yticks(ticks = []);"
   ]
  },
  {
   "cell_type": "markdown",
   "metadata": {},
   "source": [
    "#### _Compressed Deletion_"
   ]
  },
  {
   "cell_type": "code",
   "execution_count": 6,
   "metadata": {},
   "outputs": [],
   "source": [
    "def compressed_deletion(z, thresh):\n",
    "    for i in range(len(z)):\n",
    "        if np.abs(z[i]) <= t:\n",
    "            z[i] = 0\n",
    "        elif z[i] > t:\n",
    "            z[i] = z[i] - t\n",
    "        elif z[i] < -t:\n",
    "            z[i] = z[i] + t\n",
    "    return z"
   ]
  },
  {
   "cell_type": "code",
   "execution_count": 7,
   "metadata": {},
   "outputs": [
    {
     "data": {
      "image/png": "[encoded data removed]",
      "text/plain": [
       "<Figure size 432x288 with 1 Axes>"
      ]
     },
     "metadata": {
      "needs_background": "light"
     },
     "output_type": "display_data"
    }
   ],
   "source": [
    "fig = plt.figure()\n",
    "\n",
    "\n",
    "z = np.arange(-40, 40, 1)\n",
    "t = 10\n",
    "\n",
    "compressed_deletion(z,t)\n",
    "\n",
    "x = np.arange(-40, 40, 1)\n",
    "y = z\n",
    "\n",
    "ax = plt.gca()\n",
    "plt.title('Compressed Deletion')\n",
    "ax.plot(x, y, linewidth = 2, color = 'black')\n",
    "ax.spines['left'].set_position('zero')\n",
    "ax.spines['right'].set_color('none')\n",
    "ax.spines['bottom'].set_position('zero')\n",
    "ax.spines['top'].set_color('none')\n",
    "plt.xticks(ticks = [-t, t], labels = ['-t', 't'], fontsize = 'x-large')\n",
    "plt.yticks(ticks = []);"
   ]
  },
  {
   "cell_type": "markdown",
   "metadata": {},
   "source": [
    "## _Creating a hebbian network to test the different deletion types_"
   ]
  },
  {
   "cell_type": "markdown",
   "metadata": {},
   "source": [
    "### [Canonical Hopfield Model](https://www.pnas.org/content/79/8/2554)"
   ]
  },
  {
   "cell_type": "code",
   "execution_count": 8,
   "metadata": {},
   "outputs": [],
   "source": [
    "M = 3 #number of memories\n",
    "N = 4 #number of neurons"
   ]
  },
  {
   "cell_type": "code",
   "execution_count": 47,
   "metadata": {},
   "outputs": [
    {
     "name": "stdout",
     "output_type": "stream",
     "text": [
      "Wall time: 0 ns\n"
     ]
    }
   ],
   "source": [
    "%%time\n",
    "\n",
    "patterns = np.empty(shape = (M, N))\n",
    "\n",
    "#create an empty pattern matrix to store all of the original patterns\n",
    "\n",
    "w = np.empty(shape = (N,N))\n",
    "\n",
    "#create an empty pattern and connectivity matrix for each pattern\n",
    "\n",
    "Wij = np.empty(shape = (M, N, N))\n",
    "\n",
    "#create a larger empty 3D array, that stores the connectivity patterns for each memory\n",
    "\n",
    "for i in range(M):\n",
    "    neurons = np.random.choice([-1, 1], N)\n",
    "    patterns[i][:] = neurons\n",
    "    for j in range(len(neurons)):\n",
    "        w[j][:] = neurons[j] * neurons\n",
    "        for v in range(len(w)):\n",
    "            w[v][v] = 0\n",
    "    Wij[i] = w\n",
    "    \n",
    "    \n",
    "#the resulting Wij output represents the initial synaptic efficacy for each pattern (1st dim) for each neuron (2nd dim) and its connectivity matrix (3rd dim)\n",
    "#all of the original binary memory patterns are stored within the patterns variable"
   ]
  },
  {
   "cell_type": "code",
   "execution_count": 48,
   "metadata": {},
   "outputs": [
    {
     "name": "stdout",
     "output_type": "stream",
     "text": [
      "Patterns matrix size:  (3, 4)\n",
      "Initial synaptic efficacy matrix for each memory:  (3, 4, 4)\n"
     ]
    }
   ],
   "source": [
    "print('Patterns matrix size: ', patterns.shape)\n",
    "print('Initial synaptic efficacy matrix for each memory: ', Wij.shape)"
   ]
  },
  {
   "cell_type": "code",
   "execution_count": 49,
   "metadata": {},
   "outputs": [
    {
     "data": {
      "text/plain": [
       "array([[[ 0., -1., -1., -1.],\n",
       "        [-1.,  0.,  1.,  1.],\n",
       "        [-1.,  1.,  0.,  1.],\n",
       "        [-1.,  1.,  1.,  0.]],\n",
       "\n",
       "       [[ 0.,  1., -1., -1.],\n",
       "        [ 1.,  0., -1., -1.],\n",
       "        [-1., -1.,  0.,  1.],\n",
       "        [-1., -1.,  1.,  0.]],\n",
       "\n",
       "       [[ 0.,  1., -1., -1.],\n",
       "        [ 1.,  0., -1., -1.],\n",
       "        [-1., -1.,  0.,  1.],\n",
       "        [-1., -1.,  1.,  0.]]])"
      ]
     },
     "execution_count": 49,
     "metadata": {},
     "output_type": "execute_result"
    }
   ],
   "source": [
    "Wij"
   ]
  },
  {
   "cell_type": "code",
   "execution_count": 50,
   "metadata": {},
   "outputs": [
    {
     "data": {
      "text/plain": [
       "array([[ 0.        ,  0.57735027, -1.73205081, -1.73205081],\n",
       "       [ 0.57735027,  0.        , -0.57735027, -0.57735027],\n",
       "       [-1.73205081, -0.57735027,  0.        ,  1.73205081],\n",
       "       [-1.73205081, -0.57735027,  1.73205081,  0.        ]])"
      ]
     },
     "execution_count": 50,
     "metadata": {},
     "output_type": "execute_result"
    }
   ],
   "source": [
    "#creating the initial connectivity matrix by summing across the memories\n",
    "\n",
    "WIJ = np.zeros(shape = (N, N))\n",
    "\n",
    "for j in range(N):\n",
    "    for i in range(N):\n",
    "        x = []\n",
    "        for m in range(M):\n",
    "            x = np.append(x, Wij[m][i][j])\n",
    "        WIJ[i][j] = (1/np.sqrt(M)) * x.sum()\n",
    "WIJ"
   ]
  },
  {
   "cell_type": "code",
   "execution_count": 51,
   "metadata": {},
   "outputs": [
    {
     "name": "stdout",
     "output_type": "stream",
     "text": [
      "Initial synaptic efficacy:  (4, 4)\n"
     ]
    }
   ],
   "source": [
    "print('Initial synaptic efficacy: ', WIJ.shape)"
   ]
  },
  {
   "cell_type": "code",
   "execution_count": 52,
   "metadata": {},
   "outputs": [],
   "source": [
    "#state update rule\n",
    "\n",
    "for t in range(timesteps):\n",
    "    for i in range(N):\n",
    "        for j in range(N):\n",
    "            X[t][j] = WIJ[i][j]"
   ]
  },
  {
   "cell_type": "code",
   "execution_count": 66,
   "metadata": {},
   "outputs": [
    {
     "data": {
      "text/plain": [
       "array([ 0.        ,  0.57735027, -1.73205081, -1.73205081])"
      ]
     },
     "execution_count": 66,
     "metadata": {},
     "output_type": "execute_result"
    }
   ],
   "source": [
    "WIJ[0]"
   ]
  },
  {
   "cell_type": "code",
   "execution_count": 70,
   "metadata": {},
   "outputs": [],
   "source": [
    "#creating the input field for just one neuron i\n",
    "f = []\n",
    "\n",
    "for j in range(N):\n",
    "    f = np.append(f, X[0][0]*WIJ[0][j])\n",
    "    if f.sum() > 0:\n",
    "        X[1][0] = 1\n",
    "    else:\n",
    "        X[1][0] = -1"
   ]
  },
  {
   "cell_type": "code",
   "execution_count": 71,
   "metadata": {},
   "outputs": [
    {
     "data": {
      "text/plain": [
       "array([[-1.,  1.,  1.,  1.],\n",
       "       [ 1.,  0.,  0.,  0.],\n",
       "       [ 0.,  0.,  0.,  0.],\n",
       "       [ 0.,  0.,  0.,  0.],\n",
       "       [ 0.,  0.,  0.,  0.],\n",
       "       [ 0.,  0.,  0.,  0.],\n",
       "       [ 0.,  0.,  0.,  0.],\n",
       "       [ 0.,  0.,  0.,  0.],\n",
       "       [ 0.,  0.,  0.,  0.],\n",
       "       [ 0.,  0.,  0.,  0.],\n",
       "       [ 0.,  0.,  0.,  0.],\n",
       "       [ 0.,  0.,  0.,  0.],\n",
       "       [ 0.,  0.,  0.,  0.],\n",
       "       [ 0.,  0.,  0.,  0.],\n",
       "       [ 0.,  0.,  0.,  0.]])"
      ]
     },
     "execution_count": 71,
     "metadata": {},
     "output_type": "execute_result"
    }
   ],
   "source": [
    "X"
   ]
  },
  {
   "cell_type": "code",
   "execution_count": 73,
   "metadata": {},
   "outputs": [],
   "source": [
    "#ok now lets generalize this function to multiple timesteps, and with every neuron in the network\n",
    "\n",
    "for t in range(timesteps-1):\n",
    "    for i in range(N):\n",
    "        f = []\n",
    "        for j in range(N):\n",
    "            f = np.append(f, X[t][i]*WIJ[i][j])\n",
    "            if f.sum() > 0:\n",
    "                X[t+1][i] = 1\n",
    "            else:\n",
    "                X[t+1][i] = -1"
   ]
  },
  {
   "cell_type": "code",
   "execution_count": 74,
   "metadata": {},
   "outputs": [
    {
     "data": {
      "text/plain": [
       "array([[-1.,  1.,  1.,  1.],\n",
       "       [ 1., -1., -1., -1.],\n",
       "       [-1.,  1.,  1.,  1.],\n",
       "       [ 1., -1., -1., -1.],\n",
       "       [-1.,  1.,  1.,  1.],\n",
       "       [ 1., -1., -1., -1.],\n",
       "       [-1.,  1.,  1.,  1.],\n",
       "       [ 1., -1., -1., -1.],\n",
       "       [-1.,  1.,  1.,  1.],\n",
       "       [ 1., -1., -1., -1.],\n",
       "       [-1.,  1.,  1.,  1.],\n",
       "       [ 1., -1., -1., -1.],\n",
       "       [-1.,  1.,  1.,  1.],\n",
       "       [ 1., -1., -1., -1.],\n",
       "       [-1.,  1.,  1.,  1.]])"
      ]
     },
     "execution_count": 74,
     "metadata": {},
     "output_type": "execute_result"
    }
   ],
   "source": [
    "X"
   ]
  },
  {
   "cell_type": "code",
   "execution_count": 64,
   "metadata": {},
   "outputs": [
    {
     "data": {
      "text/plain": [
       "-1.0"
      ]
     },
     "execution_count": 64,
     "metadata": {},
     "output_type": "execute_result"
    }
   ],
   "source": [
    "#network activity at timestep 1 for neuron 1\n",
    "\n",
    "X[0][0]"
   ]
  },
  {
   "cell_type": "code",
   "execution_count": 22,
   "metadata": {},
   "outputs": [
    {
     "data": {
      "text/plain": [
       "array([1., 1., 1., 1.])"
      ]
     },
     "execution_count": 22,
     "metadata": {},
     "output_type": "execute_result"
    }
   ],
   "source": [
    "#3 memories stored as 4 binary numbers\n",
    "\n",
    "patterns[1]"
   ]
  },
  {
   "cell_type": "code",
   "execution_count": 57,
   "metadata": {},
   "outputs": [],
   "source": [
    "#will need to initilize the model with some Xt=0 that is close to one of the patterns, but slightly different with a little bit of noise\n",
    "\n",
    "timesteps = 15\n",
    "\n",
    "\n",
    "X = np.zeros(shape = (timesteps, N))\n",
    "\n",
    "#x is our network's activity pattern, this changes over a certain number of timesteps and represents the value of each of the neurons within the second dim"
   ]
  },
  {
   "cell_type": "code",
   "execution_count": 58,
   "metadata": {},
   "outputs": [],
   "source": [
    "X[0] = patterns[0]"
   ]
  },
  {
   "cell_type": "code",
   "execution_count": 59,
   "metadata": {},
   "outputs": [
    {
     "data": {
      "text/plain": [
       "array([-1.,  1.,  1.,  1.])"
      ]
     },
     "execution_count": 59,
     "metadata": {},
     "output_type": "execute_result"
    }
   ],
   "source": [
    "X[0]"
   ]
  },
  {
   "cell_type": "markdown",
   "metadata": {},
   "source": [
    "### Low-activity Model from [Tsodyks and Feigelman 1988](https://www.researchgate.net/profile/Michail_Tsodyks/publication/231147967_The_Enhanced_Storage_Capacity_in_Neural_Networks_with_Low_Activity_Level/links/56ce28a308ae059e37535728/The-Enhanced-Storage-Capacity-in-Neural-Networks-with-Low-Activity-Level.pdf)"
   ]
  },
  {
   "cell_type": "code",
   "execution_count": null,
   "metadata": {},
   "outputs": [],
   "source": [
    "p = 0.1\n",
    "val = []\n",
    "\n",
    "for i in range(M):\n",
    "    val = np.append(val, (np.random.choice([0, 1], 2) - p)*(np.random.choice([0, 1], 2) - p))"
   ]
  },
  {
   "cell_type": "code",
   "execution_count": null,
   "metadata": {},
   "outputs": [],
   "source": [
    "(1/(p*(1-p)*np.sqrt(M))) * val"
   ]
  },
  {
   "cell_type": "code",
   "execution_count": null,
   "metadata": {},
   "outputs": [],
   "source": []
  }
 ],
 "metadata": {
  "kernelspec": {
   "display_name": "Python 3",
   "language": "python",
   "name": "python3"
  },
  "language_info": {
   "codemirror_mode": {
    "name": "ipython",
    "version": 3
   },
   "file_extension": ".py",
   "mimetype": "text/x-python",
   "name": "python",
   "nbconvert_exporter": "python",
   "pygments_lexer": "ipython3",
   "version": "3.7.4"
  }
 },
 "nbformat": 4,
 "nbformat_minor": 4
}
